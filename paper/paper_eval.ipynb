{
 "cells": [
  {
   "cell_type": "markdown",
   "id": "2da2cdb9",
   "metadata": {},
   "source": [
    "\n",
    "# Reproducing the paper evaluation results\n",
    "\n",
    "This notebook is the quickest way to reproduce and visualize the evaluation results of the paper.\n",
    "\n",
    "### Information Captured:\n",
    "- Emissions produced at each timestep for each seed.\n",
    "- Abated emissions at each timestep for each seed.\n",
    "- Net economic output at each timestep for each seed.\n",
    "- Global and regional temperature variations.\n",
    "- Savings and emission control rates.\n",
    "\n",
    "### Plots Included:\n",
    "- Time series for economic output, emissions, temperature, and abated emissions.\n",
    "- Regional maps for abated emissions.\n",
    "- Gini coefficient plots over time.\n"
   ]
  },
  {
   "cell_type": "code",
   "execution_count": null,
   "id": "b8e82461",
   "metadata": {},
   "outputs": [],
   "source": [
    "# Necessary imports for the notebook\n",
    "\n",
    "import sys\n",
    "sys.path.append(\"../\")\n",
    "\n",
    "import os, glob, pandas as pd\n",
    "\n",
    "from rl.args import Args\n",
    "from paper.eval_utils import *\n",
    "from eval import *\n",
    "\n",
    "# Enable inline plotting\n",
    "%matplotlib inline\n",
    "!pip install --upgrade nbformat\n",
    "\n",
    "os.chdir('..') #Make sure your current working directory is the root folder of the project\n"
   ]
  },
  {
   "cell_type": "code",
   "execution_count": 3,
   "id": "44a442ce",
   "metadata": {},
   "outputs": [],
   "source": [
    "# Define the paths to the policies and the baseline emissions data to used to compute abated emissions\n",
    "CURRENT_WORKING_DIR = os.getcwd()\n",
    "PAPER_FOLDER = os.path.join(CURRENT_WORKING_DIR, \"paper\")\n",
    "POLICY_FOLDER = os.path.join(PAPER_FOLDER, \"paper_policies\") # Folder containing the checkpoints and pickles\n",
    "ALL_POLICIES = glob.glob(os.path.join(POLICY_FOLDER, \"*\"))\n",
    "\n",
    "baselines_emissions_data_path = os.path.join(PAPER_FOLDER, \"baseline_emissions.csv\") # Used to calculate abated emissions\n",
    "\n",
    "# Load the baseline emissions data \n",
    "base_emissions = pd.read_csv(baselines_emissions_data_path, delimiter=\";\").iloc[:, 1:].to_numpy()\n"
   ]
  },
  {
   "cell_type": "code",
   "execution_count": null,
   "id": "f20a8b95",
   "metadata": {},
   "outputs": [],
   "source": [
    "# Running evaluation for the 3 chosen policies across 10 evaluation seeds each\n",
    "\n",
    "evaluation_seeds = range(1,11) # Seeds 1 to 10\n",
    "global_data_dict = {}\n",
    "\n",
    "for policy_base_path in ALL_POLICIES:\n",
    "\n",
    "    policy_folder_name = os.path.basename(policy_base_path)\n",
    "    print(f\"Running evaluations for policy {policy_folder_name}\")\n",
    "    \n",
    "    checkpoint_path = glob.glob(os.path.join(policy_base_path, \"checkpoints\", \"*\"))[0]\n",
    "\n",
    "    loaded_args = Args()\n",
    "    loaded_args.network_model_config = glob.glob(\"rl/nn/params/mlp.json\")[0]\n",
    "\n",
    "    for eval_seed in evaluation_seeds:\n",
    "        \n",
    "        print(f\"Running evaluation for seed={str(eval_seed)}\")\n",
    "        \n",
    "        seed_evaluation_data = evaluate_seed(base_emissions=base_emissions, loaded_args=loaded_args, checkpoint_path=checkpoint_path, eval_seed=eval_seed)\n",
    "        \n",
    "        seed_evaluation_dict = {str(eval_seed): seed_evaluation_data}\n",
    "        \n",
    "        if policy_folder_name not in global_data_dict.keys():\n",
    "            global_data_dict[policy_folder_name] = seed_evaluation_dict\n",
    "        else:\n",
    "            global_data_dict[policy_folder_name].update(seed_evaluation_dict)\n"
   ]
  },
  {
   "cell_type": "code",
   "execution_count": 5,
   "id": "3e758e8e",
   "metadata": {},
   "outputs": [],
   "source": [
    "# AGGREGATE DATA ACROSS SEEDS\n",
    "\n",
    "evaluation_data = global_data_dict\n",
    "aggregated_data = aggregate_data_across_seeds(evaluation_data=evaluation_data)\n",
    "\n",
    "(\n",
    "    rice_abated_emissions_data,\n",
    "    rice_emissions_data,\n",
    "    rice_global_temperature_data,\n",
    "    rice_net_economic_output_data,\n",
    ") = load_rice_data(current_working_dir=PAPER_FOLDER)\n"
   ]
  },
  {
   "cell_type": "code",
   "execution_count": null,
   "id": "adfbdd1f",
   "metadata": {},
   "outputs": [],
   "source": [
    "# PLOT TIME SERIES  \n",
    "\n",
    "plot_economic_output_over_time(\n",
    "    aggregated_data=aggregated_data, rice_data=rice_net_economic_output_data, current_working_dir=PAPER_FOLDER, mode=\"show\"\n",
    ")\n",
    "plot_total_emissions_over_time(\n",
    "    aggregated_data=aggregated_data, rice_data=rice_emissions_data, current_working_dir=PAPER_FOLDER, mode=\"show\"\n",
    ")\n",
    "plot_average_global_temperature_over_time(\n",
    "    aggregated_data=aggregated_data, rice_data=rice_global_temperature_data, current_working_dir=PAPER_FOLDER, mode=\"show\"\n",
    ")\n",
    "plot_total_abated_emissions_over_time(\n",
    "    aggregated_data=aggregated_data, rice_data=rice_abated_emissions_data, current_working_dir=PAPER_FOLDER, mode=\"show\"\n",
    ")\n"
   ]
  },
  {
   "cell_type": "code",
   "execution_count": null,
   "id": "2d013d52",
   "metadata": {},
   "outputs": [],
   "source": [
    "# PLOT REGIONAL MAPS\n",
    "\n",
    "abated_emissions_data = {\n",
    "    policy_name: policy_data[\"mean\"][\"abated_emissions\"]\n",
    "    for policy_name, policy_data in aggregated_data.items()\n",
    "}\n",
    "\n",
    "abated_emissions_data[\"rice\"] = rice_abated_emissions_data\n",
    "\n",
    "plot_regional_maps(abated_emissions_data, current_working_dir=PAPER_FOLDER, mode=\"show\")\n"
   ]
  },
  {
   "cell_type": "code",
   "execution_count": null,
   "id": "cab9e25a",
   "metadata": {},
   "outputs": [],
   "source": [
    "# PLOT GINI COEFFICIENTS\n",
    "\n",
    "plot_gini_over_time(\n",
    "    aggregated_data=aggregated_data,\n",
    "    rice_data={\n",
    "        \"net_economic_output\": rice_net_economic_output_data,\n",
    "        \"emissions\": rice_emissions_data,\n",
    "        \"abated_emissions\": rice_abated_emissions_data,\n",
    "    },\n",
    "    current_working_dir=CURRENT_WORKING_DIR,\n",
    "    mode=\"show\",\n",
    "    moving_average_n=5\n",
    ")\n"
   ]
  }
 ],
 "metadata": {
  "kernelspec": {
   "display_name": "env",
   "language": "python",
   "name": "python3"
  },
  "language_info": {
   "codemirror_mode": {
    "name": "ipython",
    "version": 3
   },
   "file_extension": ".py",
   "mimetype": "text/x-python",
   "name": "python",
   "nbconvert_exporter": "python",
   "pygments_lexer": "ipython3",
   "version": "3.10.16"
  }
 },
 "nbformat": 4,
 "nbformat_minor": 5
}
