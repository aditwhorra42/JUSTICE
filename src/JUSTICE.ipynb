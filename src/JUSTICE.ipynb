{
 "cells": [
  {
   "cell_type": "code",
   "execution_count": 1,
   "metadata": {},
   "outputs": [
    {
     "name": "stdout",
     "output_type": "stream",
     "text": [
      "/Users/palokbiswas/Desktop/Repo/JUSTICE/JUSTICE-IAM/src\n",
      "/Users/palokbiswas/Desktop/Repo/JUSTICE/JUSTICE-IAM\n",
      "/Users/palokbiswas/Desktop/Repo/JUSTICE/JUSTICE-IAM/data\n"
     ]
    }
   ],
   "source": [
    "import data_loader\n",
    "\n",
    "# Instantiate the data loader\n",
    "\n",
    "# Load the data\n",
    "data_loader = data_loader.DataLoader()"
   ]
  },
  {
   "cell_type": "code",
   "execution_count": 2,
   "metadata": {},
   "outputs": [],
   "source": [
    "gdp = data_loader.GDP_DICT"
   ]
  },
  {
   "cell_type": "code",
   "execution_count": 3,
   "metadata": {},
   "outputs": [],
   "source": [
    "testdf = gdp['SSP1']"
   ]
  },
  {
   "cell_type": "code",
   "execution_count": 4,
   "metadata": {},
   "outputs": [],
   "source": [
    "path_to_justice = '/Users/palokbiswas/Desktop/pollockdevis_git/JUSTICE'\n",
    "import sys\n",
    "sys.path.insert(0, path_to_justice)\n",
    "\n",
    "from src.economy.neoclassical import NeoclassicalEconomyModel"
   ]
  },
  {
   "cell_type": "code",
   "execution_count": 5,
   "metadata": {},
   "outputs": [
    {
     "name": "stdout",
     "output_type": "stream",
     "text": [
      "0.3\n"
     ]
    }
   ],
   "source": [
    "model = NeoclassicalEconomyModel()"
   ]
  },
  {
   "cell_type": "code",
   "execution_count": null,
   "metadata": {},
   "outputs": [],
   "source": []
  }
 ],
 "metadata": {
  "kernelspec": {
   "display_name": "base",
   "language": "python",
   "name": "python3"
  },
  "language_info": {
   "codemirror_mode": {
    "name": "ipython",
    "version": 3
   },
   "file_extension": ".py",
   "mimetype": "text/x-python",
   "name": "python",
   "nbconvert_exporter": "python",
   "pygments_lexer": "ipython3",
   "version": "3.9.10"
  },
  "orig_nbformat": 4
 },
 "nbformat": 4,
 "nbformat_minor": 2
}
