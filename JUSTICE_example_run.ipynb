{
 "cells": [
  {
   "cell_type": "markdown",
   "metadata": {},
   "source": [
    "# Example JUSTICE"
   ]
  },
  {
   "cell_type": "code",
   "execution_count": 1,
   "metadata": {},
   "outputs": [],
   "source": [
    "from src.economy.neoclassical import NeoclassicalEconomyModel\n",
    "from src.emissions.emission import OutputToEmissions\n",
    "#from economy.neoclassical import NeoclassicalEconomyModel\n",
    "from src.data_loader import DataLoader\n",
    "from src.enumerations import *\n",
    "from src.model_time import TimeHorizon\n",
    "from src.climate.temperature_downscaler import TemperatureDownscaler\n",
    "# Instantiate the data loader\n",
    "from src.climate.coupled_fair import CoupledFAIR\n",
    "from src.enumerations import *\n",
    "import pandas as pd\n",
    "import numpy as np\n",
    "from src.damage.kalkuhl import DamageKalkuhl\n",
    "from src.abatement.abatement_enerdata import AbatementEnerdata\n",
    "from src.model import JUSTICE\n",
    "\n",
    "\n"
   ]
  },
  {
   "cell_type": "markdown",
   "metadata": {},
   "source": [
    "## 1. Initialisation"
   ]
  },
  {
   "cell_type": "code",
   "execution_count": 2,
   "metadata": {},
   "outputs": [],
   "source": [
    "\n",
    "\n",
    "\n",
    "# Load the data\n",
    "data_loader = DataLoader()\n",
    "\n",
    "# Instantiate the TimeHorizon class\n",
    "time_horizon = TimeHorizon(start_year=2015, end_year=2300, data_timestep=5, timestep=1)\n",
    "\n",
    "# climate = CoupledFAIR()\n",
    "# downscaler = TemperatureDownscaler(input_dataset = data_loader)\n",
    "\n",
    "# climate.fair_justice_run_init(time_horizon=time_horizon, scenarios=scenarios)\n",
    "# no_of_ensembles = climate.__getattribute__('number_of_ensembles')\n",
    "# print(no_of_ensembles)\n",
    "# damage_function = DamageKalkuhl(input_dataset=data_loader, time_horizon=time_horizon, climate_ensembles=no_of_ensembles)\n",
    "# abatement = AbatementEnerdata(input_dataset=data_loader, time_horizon=time_horizon)\n",
    "\n",
    "# economy = NeoclassicalEconomyModel(input_dataset = data_loader, time_horizon=time_horizon, climate_ensembles=no_of_ensembles)\n",
    "# emissions = OutputToEmissions(input_dataset=data_loader, time_horizon=time_horizon, climate_ensembles=no_of_ensembles)"
   ]
  },
  {
   "cell_type": "markdown",
   "metadata": {},
   "source": [
    "### Lever: Fixed Savings rate"
   ]
  },
  {
   "cell_type": "code",
   "execution_count": 3,
   "metadata": {},
   "outputs": [
    {
     "data": {
      "image/png": "[encoded data removed]",
      "text/plain": [
       "<Figure size 432x288 with 1 Axes>"
      ]
     },
     "metadata": {
      "needs_background": "light"
     },
     "output_type": "display_data"
    },
    {
     "name": "stdout",
     "output_type": "stream",
     "text": [
      "(57, 286)\n"
     ]
    }
   ],
   "source": [
    "\n",
    "#Create a fixed savings rate\n",
    "fixed_savings_rate = np.copy(data_loader.SAVING_RATE_INIT_ARRAY).reshape(-1, 1)\n",
    "#fixed_savings_rate Validated with RICE50 for timestep 1 and 5\n",
    "\n",
    "set_year = time_horizon.model_time_horizon\n",
    "#economy.get_optimal_long_run_savings_rate() = 0.2582781457\n",
    "\n",
    "for i, years in enumerate(set_year):\n",
    "    \n",
    "    t = i+1 #index starts at 0, so add 1 to get the year\n",
    "\n",
    "    if t != 1: # no need to repeat for the first year\n",
    "\n",
    "        next_rate = data_loader.SAVING_RATE_INIT_ARRAY + (0.2582781457  - data_loader.SAVING_RATE_INIT_ARRAY)*((t - 1)/(len(set_year) - 1))\n",
    "        # append to the fixed savings rate array for each year\n",
    "        fixed_savings_rate = np.column_stack((fixed_savings_rate, next_rate))\n",
    "\n",
    "from matplotlib import pyplot as plt\n",
    "plt.plot(np.sum(fixed_savings_rate, axis=0))\n",
    "plt.title(\"Fixed Savings Rate\")\n",
    "plt.xlabel(\"Time\")\n",
    "plt.ylabel(\"Savings Rate\")\n",
    "plt.show()\n",
    "print(fixed_savings_rate.shape)"
   ]
  },
  {
   "cell_type": "markdown",
   "metadata": {},
   "source": [
    "### Lever: Linear Emissions Control Rate"
   ]
  },
  {
   "cell_type": "code",
   "execution_count": 4,
   "metadata": {},
   "outputs": [
    {
     "data": {
      "image/png": "[encoded data removed]",
      "text/plain": [
       "<Figure size 432x288 with 1 Axes>"
      ]
     },
     "metadata": {
      "needs_background": "light"
     },
     "output_type": "display_data"
    }
   ],
   "source": [
    "#emissions control rate borrowed from emissions module\n",
    "\n",
    "#Variables to be changed/deleted later\n",
    "miu_initial = 0.0\n",
    "min_miu = 0.2 #0.0 #1.0\n",
    "min_miu_year = 2055 #9-original #8 in this model  # 2060\n",
    "max_miu = 1.0 #1.2\n",
    "max_miu_year = 2200 #38-original #37 in this model #2205\n",
    "\n",
    "t_min_miu = time_horizon.year_to_timestep(min_miu_year, timestep=1)\n",
    "t_max_miu = time_horizon.year_to_timestep(max_miu_year, timestep=1)\n",
    "\n",
    "#Initialize emissions control rate\n",
    "emissions_control_rate = np.zeros((len(data_loader.REGION_LIST), len(time_horizon.model_time_horizon)))\n",
    "\n",
    "for t in range(len(time_horizon.model_time_horizon)):\n",
    "    \n",
    "    if t < t_min_miu:       # Before time of transition\n",
    "        emissions_control_rate[:,t] = min_miu\n",
    "    elif t <= t_max_miu:   # Transition\n",
    "        # During the transition\n",
    "        emissions_control_rate[:, t] = min_miu + (max_miu - min_miu) * (t - t_min_miu)/(t_max_miu - t_min_miu)\n",
    "    else:                   # After the transition\n",
    "        emissions_control_rate[:, t] = max_miu\n",
    "\n",
    "\n",
    "#Plot the emissions control rate\n",
    "#TODO This will be a control Lever\n",
    "#In RICE50, emissions control rate remains zero in BAU run\n",
    "\n",
    "from matplotlib import pyplot as plt\n",
    "plt.plot(emissions_control_rate[0, :])\n",
    "plt.title(\"Emissions Control Rate\")\n",
    "plt.xlabel(\"Time\")\n",
    "plt.ylabel(\"Emissions Control\")\n",
    "plt.show()"
   ]
  },
  {
   "cell_type": "code",
   "execution_count": 5,
   "metadata": {},
   "outputs": [],
   "source": [
    "scenarios = 2\n",
    "model = JUSTICE(start_year = 2015, end_year = 2300, timestep = 1, scenario=scenarios)"
   ]
  },
  {
   "cell_type": "code",
   "execution_count": 6,
   "metadata": {},
   "outputs": [
    {
     "name": "stdout",
     "output_type": "stream",
     "text": [
      "dict_keys(['net_economic_output', 'consumption_per_capita', 'emissions', 'regional_temperature', 'global_temperature', 'economic_damage', 'abatement_cost', 'carbon_price', 'disentangled_utility', 'welfare_utilitarian'])\n"
     ]
    }
   ],
   "source": [
    "model.run(savings_rate = fixed_savings_rate, emissions_control_rate = emissions_control_rate)\n",
    "\n",
    "print(model.get_outcome_names())"
   ]
  },
  {
   "cell_type": "code",
   "execution_count": 8,
   "metadata": {},
   "outputs": [],
   "source": [
    "datasets = model.evaluate(welfare_function=WelfareFunction.UTILITARIAN)"
   ]
  },
  {
   "cell_type": "code",
   "execution_count": 10,
   "metadata": {},
   "outputs": [],
   "source": [
    "net_output = datasets['net_economic_output']\n",
    "temp = datasets['global_temperature']\n",
    "dis_util = datasets['disentangled_utility']"
   ]
  },
  {
   "cell_type": "code",
   "execution_count": 11,
   "metadata": {},
   "outputs": [],
   "source": [
    "testdf = damages[:,:,0]"
   ]
  },
  {
   "cell_type": "markdown",
   "metadata": {},
   "source": [
    "## 2. Run"
   ]
  },
  {
   "cell_type": "code",
   "execution_count": null,
   "metadata": {},
   "outputs": [],
   "source": [
    "# Run the model\n",
    "#temp_emissions = np.zeros((57, 286, 1001))\n",
    "damage = np.zeros((57, 286, 1001))\n",
    "abatement_cost = np.zeros((57, 286, 1001))\n",
    "carbon_price = np.zeros((57, 286))\n",
    "# Regional temperature array\n",
    "regional_temperature = np.zeros((57, 286, 1001))\n",
    "#global_temperature_arr = np.zeros((286, 1001))\n",
    "set_year = time_horizon.model_time_horizon\n",
    "\n",
    "for i in (range(len(set_year) )): #- 1\n",
    "\n",
    "    output = economy.run(scenario = scenarios, timestep=i, savings_rate=fixed_savings_rate[:, i])\n",
    "\n",
    "    emissions_array = emissions.run_emissions(timestep=i, scenario=scenarios, output=output, emission_control_rate=emissions_control_rate[:,i]) #[:,i,:]   \n",
    "\n",
    "\n",
    "    if i < (len(set_year) - 1): # Run the model for all timesteps except the last one. Damages and Abatement applies to the next timestep\n",
    "        global_temperature = climate.compute_temperature_from_emission(i, emissions_array)\n",
    "\n",
    "        regional_temperature[:,i,:] = downscaler.get_regional_temperature(global_temperature)\n",
    "\n",
    "        damage[:,i,:] = damage_function.calculate_damage(temperature=regional_temperature[:,i,:], timestep=i)\n",
    "\n",
    "        # damage[:,i,:] = damage_function.calculate_damage(temperature=regional_temperature, timestep=i)\n",
    "        abatement_cost[:,i,:] = abatement.calculate_abatement(timestep = i, emissions = emissions_array, emission_control_rate = emissions_control_rate[:,i])\n",
    "        carbon_price[:,i] = abatement.calculate_carbon_price(timestep = i, emission_control_rate = emissions_control_rate[:,i])\n",
    "        economy.apply_damage_to_output(timestep=i+1, damage = damage[:,i,:])\n",
    "        economy.apply_abatement_to_output(timestep=i+1, abatement = abatement_cost[:,i,:])\n",
    "\n",
    "    # else: # For the last timestep\n",
    "    #     global_temperature = climate.get_temperature_array(i)\n",
    "    #print(global_temperature.shape)\n",
    "\n",
    "    # regional_temperature = downscaler.get_regional_temperature(global_temperature)\n",
    "    # damage[:,i,:] = damage_function.calculate_damage(temperature=regional_temperature, timestep=i)\n",
    "    # abatement_cost[:,i,:] = abatement.calculate_abatement(timestep = i, emissions = emissions_array, emission_control_rate = emissions_control_rate[:,i])\n",
    "    # carbon_price[:,i] = abatement.calculate_carbon_price(timestep = i, emission_control_rate = emissions_control_rate[:,i])\n",
    "\n",
    "\n",
    "    \n",
    "\n"
   ]
  },
  {
   "cell_type": "code",
   "execution_count": null,
   "metadata": {},
   "outputs": [],
   "source": [
    "output = economy.__getattribute__('output')\n",
    "testoutput = output[:,:,0]"
   ]
  },
  {
   "cell_type": "code",
   "execution_count": null,
   "metadata": {},
   "outputs": [],
   "source": [
    "testabate = abatement_cost[:,:,0]\n"
   ]
  },
  {
   "cell_type": "markdown",
   "metadata": {},
   "source": [
    "## 3. Evaluate - SWF - for cost benefit analysis"
   ]
  },
  {
   "cell_type": "code",
   "execution_count": null,
   "metadata": {},
   "outputs": [],
   "source": [
    "import matplotlib.pyplot as pl\n",
    "\n",
    "pl.plot(time_horizon.model_time_horizon, global_temperature_arr ); #regional_temperature[0,:,:]\n",
    "pl.title('ssp: temperature')\n",
    "pl.xlabel('year')\n",
    "pl.ylabel('Temperature anomaly (K)')"
   ]
  },
  {
   "cell_type": "code",
   "execution_count": null,
   "metadata": {},
   "outputs": [],
   "source": [
    "\n",
    "# cpc = economy.get_consumption_per_capita(scenario=ssp_scenario, savings_rate=fixed_savings_rate)\n",
    "# test = cpc[:, :, 0]\n",
    "\n",
    "capital = economy.get_capital_stock(scenario=scenarios, savings_rate=fixed_savings_rate)\n",
    "test2 = capital[:, :, 0]"
   ]
  },
  {
   "cell_type": "code",
   "execution_count": null,
   "metadata": {},
   "outputs": [],
   "source": [
    "consump = economy.calculate_consumption( savings_rate=fixed_savings_rate)\n",
    "test3 = consump[:, :, 0]"
   ]
  },
  {
   "cell_type": "code",
   "execution_count": null,
   "metadata": {},
   "outputs": [],
   "source": [
    "lu = climate.get_exogenous_land_use_emissions(fair_scenario)\n",
    "foss_lu = emissions.get_fossil_and_land_use_emissions(lu)\n",
    "#fossil_and_land_use_emissions, savings_rate, regional=True\n",
    "scc = economy.calculate_social_cost_of_carbon(fossil_and_land_use_emissions = foss_lu, savings_rate=fixed_savings_rate, regional=True)"
   ]
  },
  {
   "cell_type": "code",
   "execution_count": null,
   "metadata": {},
   "outputs": [],
   "source": [
    "from src.welfare.utilitarian import calculate_utilitarian_welfare\n",
    "\n",
    "disentangled_welfare, welfare = calculate_utilitarian_welfare(economy=economy, time_horizon=time_horizon, scenario=scenarios, savings_rate=fixed_savings_rate) "
   ]
  },
  {
   "cell_type": "code",
   "execution_count": null,
   "metadata": {},
   "outputs": [],
   "source": [
    "economy.pure_rate_of_social_time_preference"
   ]
  },
  {
   "cell_type": "code",
   "execution_count": null,
   "metadata": {},
   "outputs": [],
   "source": [
    "test4 = scc[:, :, 0]"
   ]
  },
  {
   "cell_type": "code",
   "execution_count": null,
   "metadata": {},
   "outputs": [],
   "source": [
    "interest = economy.get_interest_rate(scenario=ssp_scenario, savings_rate=fixed_savings_rate)\n",
    "\n",
    "test3 = interest[:, :, 0]"
   ]
  },
  {
   "cell_type": "code",
   "execution_count": null,
   "metadata": {},
   "outputs": [],
   "source": [
    "output = economy.__getattribute__('output')\n",
    "print(output.shape)\n",
    "\n",
    "testdf = output[:, :, 0]\n",
    "\n"
   ]
  },
  {
   "cell_type": "code",
   "execution_count": null,
   "metadata": {},
   "outputs": [],
   "source": []
  },
  {
   "cell_type": "code",
   "execution_count": null,
   "metadata": {},
   "outputs": [],
   "source": [
    "baseline_per_capita = economy.__getattribute__('baseline_per_capita_growth')"
   ]
  },
  {
   "cell_type": "code",
   "execution_count": null,
   "metadata": {},
   "outputs": [],
   "source": [
    "testdf = baseline_per_capita[:, :, 0, 0]"
   ]
  },
  {
   "cell_type": "code",
   "execution_count": null,
   "metadata": {},
   "outputs": [],
   "source": [
    "#temperature = model.get_temperature_array()\n",
    "\n",
    "temp = climate.temperature.loc[dict(scenario=fair_scenario, layer=0)]\n",
    "\n",
    "# Find the maximum temperature in temperature array\n",
    "max_temp = np.max(temp[550,:])\n",
    "print(max_temp)\n",
    "#find the index of the maximum temperature\n",
    "max_temp_index = np.where(temp == max_temp)"
   ]
  },
  {
   "cell_type": "code",
   "execution_count": null,
   "metadata": {},
   "outputs": [],
   "source": [
    "climate.calculate_toa_ocean_airborne_fraction()\n",
    "climate.prepare_output_xarrays()"
   ]
  },
  {
   "cell_type": "code",
   "execution_count": null,
   "metadata": {},
   "outputs": [],
   "source": [
    "# Land use emissions\n",
    "\n",
    "#Current CO2 AFOLU is in MtCO2/yr in FAIR. For RICE, convert to GtCO2/yr\n",
    "# fair_scenario = get_climate_scenario(scenarios)\n",
    "# land_use_emissions = climate.emissions.sel(specie=\"CO2 AFOLU\", scenario=[fair_scenario])\n",
    "# land_use_emissions = (land_use_emissions.values)[:, 0, :]/ 1e3"
   ]
  },
  {
   "cell_type": "code",
   "execution_count": null,
   "metadata": {},
   "outputs": [],
   "source": [
    "testdf = pd.DataFrame(land_use_emissions[:, 0, 0])\n",
    "# Plot the land use emissions\n",
    "testdf.plot()"
   ]
  },
  {
   "cell_type": "code",
   "execution_count": null,
   "metadata": {},
   "outputs": [],
   "source": [
    "fair_scenario = get_climate_scenario(scenarios)\n",
    "print(fair_scenario)\n",
    "import matplotlib.pyplot as pl\n",
    "pl.plot(climate.timebounds, climate.temperature.loc[dict(scenario=fair_scenario, layer=0)], label=climate.configs);\n",
    "pl.title('ssp: temperature')\n",
    "pl.xlabel('year')\n",
    "pl.ylabel('Temperature anomaly (K)')"
   ]
  },
  {
   "cell_type": "code",
   "execution_count": null,
   "metadata": {},
   "outputs": [],
   "source": []
  },
  {
   "cell_type": "code",
   "execution_count": null,
   "metadata": {},
   "outputs": [],
   "source": [
    "import matplotlib.pyplot as pl\n",
    "pl.plot(climate.timebounds, climate.temperature.loc[dict(scenario=fair_scenario, layer=0)], label=climate.configs);\n",
    "pl.title('ssp: temperature')\n",
    "pl.xlabel('year')\n",
    "pl.ylabel('Temperature anomaly (K)')"
   ]
  },
  {
   "cell_type": "markdown",
   "metadata": {},
   "source": [
    "## Run All Scenarios"
   ]
  },
  {
   "cell_type": "code",
   "execution_count": null,
   "metadata": {},
   "outputs": [],
   "source": [
    "# Temporary test\n",
    "damage = np.zeros((57, 286, 1001))\n",
    "abatement_cost = np.zeros((57, 286, 1001))\n",
    "carbon_price = np.zeros((57, 286))\n",
    "\n",
    "\n",
    "for idx, scenarios in enumerate(list(Scenario)):\n",
    "    print(idx, scenarios)\n",
    "\n",
    "    fair_scenario = get_climate_scenario(idx)\n",
    "    ssp_scenario = get_economic_scenario(idx)\n",
    "\n",
    "    # Load the data\n",
    "    data_loader = DataLoader()\n",
    "\n",
    "    # Instantiate the TimeHorizon class\n",
    "    time_horizon = TimeHorizon(start_year=2015, end_year=2300, data_timestep=5, timestep=1)\n",
    "\n",
    "    climate = CoupledFAIR()\n",
    "    downscaler = TemperatureDownscaler(input_dataset = data_loader)\n",
    "\n",
    "    climate.fair_justice_run_init(time_horizon=time_horizon, scenarios=fair_scenario)\n",
    "\n",
    "    damage_function = DamageKalkuhl(input_dataset=data_loader, time_horizon=time_horizon, climate_model=climate)\n",
    "    abatement = AbatementEnerdata(input_dataset=data_loader, time_horizon=time_horizon)\n",
    "    no_of_ensembles = climate.__getattribute__('number_of_ensembles')\n",
    "    print(no_of_ensembles)\n",
    "    economy = NeoclassicalEconomyModel(input_dataset = data_loader, time_horizon=time_horizon, climate_ensembles=no_of_ensembles)\n",
    "    emissions = OutputToEmissions(input_dataset=data_loader, time_horizon=time_horizon, climate_ensembles=no_of_ensembles)\n",
    "\n",
    "    #Create a fixed savings rate\n",
    "    fixed_savings_rate = np.copy(data_loader.SAVING_RATE_INIT_ARRAY).reshape(-1, 1)\n",
    "    #fixed_savings_rate Validated with RICE50 for timestep 1 and 5\n",
    "\n",
    "    #emissions control rate borrowed from emissions module\n",
    "\n",
    "    #Variables to be changed/deleted later\n",
    "    miu_initial = 0.0\n",
    "    min_miu = 0.2 #0.0 #1.0\n",
    "    min_miu_year = 2055 #9-original #8 in this model  # 2060\n",
    "    max_miu = 1.0 #1.2\n",
    "    max_miu_year = 2200 #38-original #37 in this model #2205\n",
    "\n",
    "    t_min_miu = time_horizon.year_to_timestep(min_miu_year, timestep=1)\n",
    "    t_max_miu = time_horizon.year_to_timestep(max_miu_year, timestep=1)\n",
    "\n",
    "    #Initialize emissions control rate\n",
    "    emissions_control_rate = np.zeros((len(data_loader.REGION_LIST), len(time_horizon.model_time_horizon)))\n",
    "\n",
    "    for t in range(len(time_horizon.model_time_horizon)):\n",
    "        \n",
    "        if t < t_min_miu:       # Before time of transition\n",
    "            emissions_control_rate[:,t] = min_miu\n",
    "        elif t <= t_max_miu:   # Transition\n",
    "            # During the transition\n",
    "            emissions_control_rate[:, t] = min_miu + (max_miu - min_miu) * (t - t_min_miu)/(t_max_miu - t_min_miu)\n",
    "        else:                   # After the transition\n",
    "            emissions_control_rate[:, t] = max_miu\n",
    "\n",
    "\n",
    "\n",
    "    set_year = time_horizon.model_time_horizon\n",
    "\n",
    "\n",
    "    for i, years in enumerate(set_year):\n",
    "        \n",
    "        t = i+1 #index starts at 0, so add 1 to get the year\n",
    "\n",
    "        if t != 1: # no need to repeat for the first year\n",
    "\n",
    "            next_rate = data_loader.SAVING_RATE_INIT_ARRAY + (economy.get_optimal_long_run_savings_rate() - data_loader.SAVING_RATE_INIT_ARRAY)*((t - 1)/(len(set_year) - 1))\n",
    "            # append to the fixed savings rate array for each year\n",
    "            fixed_savings_rate = np.column_stack((fixed_savings_rate, next_rate))\n",
    "\n",
    "    for i in (range(len(set_year) )): #- 1\n",
    "\n",
    "        output = economy.run(scenario = ssp_scenario, timestep=i, savings_rate=fixed_savings_rate[:, i])\n",
    "\n",
    "        emissions_array = emissions.run_emissions(timestep=i, scenario=ssp_scenario, output=output, emission_control_rate=emissions_control_rate[:,i]) #[:,i,:]   \n",
    "\n",
    "        if i < (len(set_year) - 1): # Run the model for all timesteps except the last one. Damages and Abatement applies to the next timestep\n",
    "            global_temperature = climate.compute_temperature_from_emission(i, emissions_array)\n",
    "            regional_temperature = downscaler.get_regional_temperature(global_temperature)\n",
    "            damage[:,i,:] = damage_function.calculate_damage(temperature=regional_temperature, timestep=i)\n",
    "            abatement_cost[:,i,:] = abatement.calculate_abatement(timestep = i, emissions = emissions_array, emission_control_rate = emissions_control_rate[:,i])\n",
    "            carbon_price[:,i] = abatement.calculate_carbon_price(timestep = i, emission_control_rate = emissions_control_rate[:,i])\n",
    "            economy.apply_damage_to_output(timestep=i+1, damage = damage[:,i,:])\n",
    "            economy.apply_abatement_to_output(timestep=i+1, abatement = abatement_cost[:,i,:])\n"
   ]
  }
 ],
 "metadata": {
  "kernelspec": {
   "display_name": "base",
   "language": "python",
   "name": "python3"
  },
  "language_info": {
   "codemirror_mode": {
    "name": "ipython",
    "version": 3
   },
   "file_extension": ".py",
   "mimetype": "text/x-python",
   "name": "python",
   "nbconvert_exporter": "python",
   "pygments_lexer": "ipython3",
   "version": "3.9.10"
  },
  "orig_nbformat": 4
 },
 "nbformat": 4,
 "nbformat_minor": 2
}
