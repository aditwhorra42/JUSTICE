{
 "cells": [
  {
   "cell_type": "code",
   "execution_count": null,
   "metadata": {},
   "outputs": [],
   "source": [
    "\n",
    "\n",
    "#Get the path of the current working directory\n",
    "import os\n",
    "cwd = os.getcwd()\n",
    "print(cwd)\n",
    "\n",
    "from src.data_loader import DataLoader\n",
    "from src.enumerations import *\n",
    "\n",
    "# Instantiate the data loader\n",
    "\n",
    "# Load the data\n",
    "data_loader = DataLoader()"
   ]
  },
  {
   "cell_type": "code",
   "execution_count": null,
   "metadata": {},
   "outputs": [],
   "source": [
    "from src.model_time import TimeHorizon\n",
    "# Instantiate the TimeHorizon class\n",
    "time_horizon = TimeHorizon(start_year=2015, end_year=2300, data_timestep=5, timestep=1)\n",
    "\n",
    "# th = time_horizon.get_model_time_horizon()\n",
    "#print(th)\n",
    "print(time_horizon.data_time_horizon)  \n",
    "# Pass the time_horizon object to other parts of the model"
   ]
  },
  {
   "cell_type": "code",
   "execution_count": null,
   "metadata": {},
   "outputs": [],
   "source": [
    "path_to_justice = '/Users/palokbiswas/Desktop/pollockdevis_git/JUSTICE'\n",
    "\n",
    "# import sys\n",
    "# sys.path.insert(0, path_to_justice)\n",
    "\n",
    "\n",
    "\n",
    "from src.economy.neoclassical import NeoclassicalEconomyModel\n",
    "from src.emissions.emission import OutputToEmissions\n",
    "#from economy.neoclassical import NeoclassicalEconomyModel"
   ]
  },
  {
   "cell_type": "code",
   "execution_count": null,
   "metadata": {},
   "outputs": [],
   "source": [
    "model = NeoclassicalEconomyModel(input_dataset = data_loader, time_horizon=time_horizon)"
   ]
  },
  {
   "cell_type": "code",
   "execution_count": null,
   "metadata": {},
   "outputs": [],
   "source": [
    "emissions = OutputToEmissions(input_dataset=data_loader, time_horizon=time_horizon)\n"
   ]
  },
  {
   "cell_type": "code",
   "execution_count": null,
   "metadata": {},
   "outputs": [],
   "source": [
    "gdp = NeoclassicalEconomyModel.__getattribute__(model, 'gdp_dict')\n",
    "#gdp = data_loader.GDP_DICT\n",
    "testdf = gdp['SSP1']\n",
    "\n",
    "population = NeoclassicalEconomyModel.__getattribute__(model, 'population_dict')\n",
    "testdf2 = population['SSP1']"
   ]
  },
  {
   "cell_type": "code",
   "execution_count": null,
   "metadata": {},
   "outputs": [],
   "source": [
    "print(model.__getattribute__('capital_elasticity_in_production_function'))"
   ]
  },
  {
   "cell_type": "code",
   "execution_count": null,
   "metadata": {},
   "outputs": [],
   "source": [
    "print(model.__getattribute__('depreciation_rate_capital'))"
   ]
  },
  {
   "cell_type": "code",
   "execution_count": null,
   "metadata": {},
   "outputs": [],
   "source": [
    "print(model.get_optimal_long_run_savings_rate())"
   ]
  },
  {
   "cell_type": "code",
   "execution_count": null,
   "metadata": {},
   "outputs": [],
   "source": [
    "import numpy as np\n",
    "#Create a fixed savings rate\n",
    "fixed_savings_rate = np.copy(data_loader.SAVING_RATE_INIT_ARRAY).reshape(-1, 1)\n",
    "#fixed_savings_rate Validated with RICE50 for timestep 1 and 5\n",
    "\n",
    "set_year = time_horizon.model_time_horizon\n",
    "\n",
    "\n",
    "for i, years in enumerate(set_year):\n",
    "    \n",
    "    t = i+1 #index starts at 0, so add 1 to get the year\n",
    "\n",
    "    if t != 1: # no need to repeat for the first year\n",
    "\n",
    "        next_rate = data_loader.SAVING_RATE_INIT_ARRAY + (model.get_optimal_long_run_savings_rate() - data_loader.SAVING_RATE_INIT_ARRAY)*((t - 1)/(len(set_year) - 1))\n",
    "        # append to the fixed savings rate array for each year\n",
    "        fixed_savings_rate = np.column_stack((fixed_savings_rate, next_rate))\n",
    "\n",
    "from matplotlib import pyplot as plt\n",
    "plt.plot(np.sum(fixed_savings_rate, axis=0))\n",
    "plt.title(\"Fixed Savings Rate\")\n",
    "plt.xlabel(\"Time\")\n",
    "plt.ylabel(\"Savings Rate\")\n",
    "plt.show()"
   ]
  },
  {
   "cell_type": "code",
   "execution_count": null,
   "metadata": {},
   "outputs": [],
   "source": [
    "len(set_year)"
   ]
  },
  {
   "cell_type": "code",
   "execution_count": null,
   "metadata": {},
   "outputs": [],
   "source": [
    "scenario = SSP.SSP1\n",
    "print(scenario.value)\n",
    "\n",
    "for i in range(len(set_year)):\n",
    "    output = model.run(scenario = scenario.value, timestep=i, savings_rate=fixed_savings_rate[:, i])\n",
    "    #print shape of output\n",
    "    print(output.shape)\n",
    "    print(i)\n",
    "    #should emissions be an array of shape region, timesteps?\n",
    "    emis = emissions.run_emissions(timestep=i, scenario=scenario.value, output=output[:,i], emission_control_rate=0.0)\n",
    "\n",
    "\n",
    "#run_emissions(self, timestep, scenario, output, emission_control_rate)"
   ]
  },
  {
   "cell_type": "code",
   "execution_count": null,
   "metadata": {},
   "outputs": [],
   "source": [
    "print(output)"
   ]
  },
  {
   "cell_type": "code",
   "execution_count": null,
   "metadata": {},
   "outputs": [],
   "source": [
    "import pandas as pd\n",
    "testdf = pd.DataFrame(output)"
   ]
  },
  {
   "cell_type": "markdown",
   "metadata": {},
   "source": [
    "## Start here for experimentation"
   ]
  },
  {
   "cell_type": "code",
   "execution_count": 1,
   "metadata": {},
   "outputs": [],
   "source": [
    "from src.model_time import TimeHorizon\n",
    "# Instantiate the TimeHorizon class\n",
    "time_horizon = TimeHorizon(start_year=2015, end_year=2300, data_timestep=5, timestep=1)\n",
    "\n",
    "# th = time_horizon.get_model_time_horizon()\n",
    "#print(th)\n",
    "# print(time_horizon.data_time_horizon)  \n",
    "\n",
    "from src.climate.coupled_fair import CoupledFAIR\n",
    "\n",
    "model = CoupledFAIR()\n",
    "\n",
    "#model.fair_justice_run_init(time_horizon=time_horizon, scenarios=[\"ssp245\"])"
   ]
  },
  {
   "cell_type": "code",
   "execution_count": 2,
   "metadata": {},
   "outputs": [
    {
     "name": "stdout",
     "output_type": "stream",
     "text": [
      "['ssp119']\n"
     ]
    }
   ],
   "source": [
    "# # model.fair_fill_data(time_horizon=time_horizon, scenarios=[\"ssp245\"])\n",
    "# # model.test_init_fair(scenarios=[\"ssp245\"], time_horizon=time_horizon)\n",
    "# model.species_configs\n",
    "# model.configs\n",
    "from src.enumerations import *\n",
    "scenario = SSP.SSP1\n",
    "fair_scenario = [(ssp_to_rcp[scenario]).value]\n",
    "\n",
    "\n",
    "\n",
    "print(fair_scenario)"
   ]
  },
  {
   "cell_type": "code",
   "execution_count": 3,
   "metadata": {},
   "outputs": [],
   "source": [
    "model.fair_justice_run_init(time_horizon=time_horizon, scenarios=fair_scenario)"
   ]
  },
  {
   "cell_type": "code",
   "execution_count": 4,
   "metadata": {},
   "outputs": [],
   "source": [
    "#create a list of years 1750 to 2014 with 1 year timestep\n",
    "#0 -> 1750\n",
    "#265 -> 2015\n",
    "#549 -> 2299\n",
    "#FAIR takes up until 549 \n",
    "#FAIR outputs t+1 for input of t\n",
    "\n",
    "import time\n",
    "import numpy as np\n",
    "# justice_run_years = np.arange(\n",
    "#     self.start_year_justice,\n",
    "#     (self.end_year_fair + self.timestep_justice),\n",
    "#     self.timestep_justice,\n",
    "# )\n",
    "justice_run_years = np.arange( #This generates till 2300\n",
    "    2015,\n",
    "    (2300 + 1),\n",
    "    1,\n",
    ")\n",
    "\n",
    "#Loop through the number of years starting with zero for 1750\n",
    "#0\n",
    "#Need to do this prerun in the init\n",
    "#Then figure out how to clear emissions and refill with new emissions\n",
    "\n"
   ]
  },
  {
   "cell_type": "code",
   "execution_count": 5,
   "metadata": {},
   "outputs": [],
   "source": [
    "temperature = model.get_temperature_array()\n",
    "\n",
    "temp = temperature[:,0,:,0]"
   ]
  },
  {
   "cell_type": "code",
   "execution_count": 6,
   "metadata": {},
   "outputs": [
    {
     "name": "stdout",
     "output_type": "stream",
     "text": [
      "265\n"
     ]
    }
   ],
   "source": [
    "loop_counter =  model.__getattribute__(\"fair_historical_timestep_run_count\")\n",
    "print(loop_counter)"
   ]
  },
  {
   "cell_type": "code",
   "execution_count": 7,
   "metadata": {},
   "outputs": [
    {
     "data": {
      "text/plain": [
       "286"
      ]
     },
     "execution_count": 7,
     "metadata": {},
     "output_type": "execute_result"
    }
   ],
   "source": [
    "len(justice_run_years)\n"
   ]
  },
  {
   "cell_type": "code",
   "execution_count": 7,
   "metadata": {},
   "outputs": [],
   "source": [
    "for i in range(loop_counter, (((len(justice_run_years))+loop_counter)-1)):\n",
    "    #print(i)\n",
    "    model.stepwise_run(i)"
   ]
  },
  {
   "cell_type": "code",
   "execution_count": 11,
   "metadata": {},
   "outputs": [
    {
     "data": {
      "text/plain": [
       "'\\n#This is for FAIR #Loop should run till (len(justice_run_years) -1 )\\nfor i in range(loop_counter, (len(justice_run_years) - 1 )): # This works. The justice loop should run from loop counter and end with the last year of the justice run\\n    print(i , justice_run_years[i])\\n    # print(i)\\n    # start_time = time.time()\\n    model.stepwise_run(i)\\n    # end_time = time.time()  # palok\\n    # elapsed_time = end_time - start_time  # calculate the difference\\n    # f.calculate_toa_ocean_airborne_fraction()\\n    # f.prepare_output_xarrays()\\n\\n\\n'"
      ]
     },
     "execution_count": 11,
     "metadata": {},
     "output_type": "execute_result"
    }
   ],
   "source": [
    "\"\"\"\n",
    "#This is for FAIR #Loop should run till (len(justice_run_years) -1 )\n",
    "for i in range(loop_counter, (len(justice_run_years) - 1 )): # This works. The justice loop should run from loop counter and end with the last year of the justice run\n",
    "    print(i , justice_run_years[i])\n",
    "    # print(i)\n",
    "    # start_time = time.time()\n",
    "    model.stepwise_run(i)\n",
    "    # end_time = time.time()  # palok\n",
    "    # elapsed_time = end_time - start_time  # calculate the difference\n",
    "    # f.calculate_toa_ocean_airborne_fraction()\n",
    "    # f.prepare_output_xarrays()\n",
    "\n",
    "\n",
    "\"\"\""
   ]
  },
  {
   "cell_type": "code",
   "execution_count": 8,
   "metadata": {},
   "outputs": [],
   "source": [
    "temperature = model.get_temperature_array()\n",
    "\n",
    "temp = temperature[:,0,:,0]"
   ]
  },
  {
   "cell_type": "code",
   "execution_count": 4,
   "metadata": {},
   "outputs": [],
   "source": [
    "#Shape: timepoints, scenarios and ensemblemodels\n",
    "current_emissions = model.emissions.sel(specie=\"CO2 FFI\", scenario=fair_scenario)\n"
   ]
  },
  {
   "cell_type": "code",
   "execution_count": 5,
   "metadata": {},
   "outputs": [],
   "source": [
    "#Plots the current emissions\n",
    "current_emissions = current_emissions[:,0,:]\n"
   ]
  },
  {
   "cell_type": "code",
   "execution_count": null,
   "metadata": {},
   "outputs": [],
   "source": [
    "# #create a list of years 1750 to 2014 with 1 year timestep\n",
    "# import time\n",
    "# import numpy as np\n",
    "\n",
    "\n",
    "\n",
    "# #Loop through the number of years starting with zero for 1750\n",
    "# loop_counter = 0\n",
    "# #Need to do this prerun in the init\n",
    "# #Then figure out how to clear emissions and refill with new emissions\n",
    "# for i in range(0, len(years_fair)): #This should be 1 for justice (i think)\n",
    "#     loop_counter = i\n",
    "    \n",
    "#     start_time = time.time()\n",
    "#     model.stepwise_run(i)\n",
    "#     end_time = time.time()  # palok\n",
    "#     elapsed_time = end_time - start_time  # calculate the difference\n",
    "#     # f.calculate_toa_ocean_airborne_fraction()\n",
    "#     # f.prepare_output_xarrays()\n",
    "#     #print(f\"One iteration {i} of the loop took {elapsed_time} seconds to run.\")"
   ]
  },
  {
   "cell_type": "code",
   "execution_count": 5,
   "metadata": {},
   "outputs": [],
   "source": [
    "# temperature = model.get_temperature_array()\n",
    "\n",
    "# temp = temperature[:,0,:,0]"
   ]
  },
  {
   "cell_type": "code",
   "execution_count": null,
   "metadata": {},
   "outputs": [],
   "source": []
  }
 ],
 "metadata": {
  "kernelspec": {
   "display_name": "base",
   "language": "python",
   "name": "python3"
  },
  "language_info": {
   "codemirror_mode": {
    "name": "ipython",
    "version": 3
   },
   "file_extension": ".py",
   "mimetype": "text/x-python",
   "name": "python",
   "nbconvert_exporter": "python",
   "pygments_lexer": "ipython3",
   "version": "3.9.10"
  },
  "orig_nbformat": 4
 },
 "nbformat": 4,
 "nbformat_minor": 2
}
