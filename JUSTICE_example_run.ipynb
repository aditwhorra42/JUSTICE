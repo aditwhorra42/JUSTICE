{
 "cells": [
  {
   "cell_type": "code",
   "execution_count": 1,
   "metadata": {},
   "outputs": [
    {
     "name": "stdout",
     "output_type": "stream",
     "text": [
      "/Users/palokbiswas/Desktop/pollockdevis_git/JUSTICE\n",
      "/Users/palokbiswas/Desktop/pollockdevis_git/JUSTICE/src\n",
      "/Users/palokbiswas/Desktop/pollockdevis_git/JUSTICE\n",
      "/Users/palokbiswas/Desktop/pollockdevis_git/JUSTICE/data\n"
     ]
    }
   ],
   "source": [
    "\n",
    "\n",
    "#Get the path of the current working directory\n",
    "import os\n",
    "cwd = os.getcwd()\n",
    "print(cwd)\n",
    "\n",
    "from src.data_loader import DataLoader\n",
    "\n",
    "# Instantiate the data loader\n",
    "\n",
    "# Load the data\n",
    "data_loader = DataLoader()"
   ]
  },
  {
   "cell_type": "code",
   "execution_count": 2,
   "metadata": {},
   "outputs": [
    {
     "name": "stdout",
     "output_type": "stream",
     "text": [
      "[2015 2020 2025 2030 2035 2040 2045 2050 2055 2060 2065 2070 2075 2080\n",
      " 2085 2090 2095 2100 2105 2110 2115 2120 2125 2130 2135 2140 2145 2150\n",
      " 2155 2160 2165 2170 2175 2180 2185 2190 2195 2200 2205 2210 2215 2220\n",
      " 2225 2230 2235 2240 2245 2250 2255 2260 2265 2270 2275 2280 2285 2290\n",
      " 2295 2300]\n"
     ]
    }
   ],
   "source": [
    "from src.model_time import TimeHorizon\n",
    "# Instantiate the TimeHorizon class\n",
    "time_horizon = TimeHorizon(start_year=2015, end_year=2300, data_timestep=5, timestep=1)\n",
    "\n",
    "# th = time_horizon.get_model_time_horizon()\n",
    "#print(th)\n",
    "print(time_horizon.data_time_horizon)  \n",
    "# Pass the time_horizon object to other parts of the model"
   ]
  },
  {
   "cell_type": "code",
   "execution_count": 3,
   "metadata": {},
   "outputs": [],
   "source": [
    "path_to_justice = '/Users/palokbiswas/Desktop/pollockdevis_git/JUSTICE'\n",
    "\n",
    "# import sys\n",
    "# sys.path.insert(0, path_to_justice)\n",
    "\n",
    "\n",
    "\n",
    "from src.economy.neoclassical import NeoclassicalEconomyModel\n",
    "#from economy.neoclassical import NeoclassicalEconomyModel"
   ]
  },
  {
   "cell_type": "code",
   "execution_count": 4,
   "metadata": {},
   "outputs": [],
   "source": [
    "model = NeoclassicalEconomyModel(data_loader, time_horizon, capital_elasticity_in_production_function=0.33)"
   ]
  },
  {
   "cell_type": "code",
   "execution_count": 10,
   "metadata": {},
   "outputs": [],
   "source": [
    "gdp = NeoclassicalEconomyModel.__getattribute__(model, 'gdp_dict')\n",
    "#gdp = data_loader.GDP_DICT\n",
    "testdf = gdp['SSP1']\n",
    "\n",
    "population = NeoclassicalEconomyModel.__getattribute__(model, 'population_dict')\n",
    "testdf2 = population['SSP1']"
   ]
  },
  {
   "cell_type": "code",
   "execution_count": 5,
   "metadata": {},
   "outputs": [
    {
     "name": "stdout",
     "output_type": "stream",
     "text": [
      "0.33\n"
     ]
    }
   ],
   "source": [
    "print(model.__getattribute__('capital_elasticity_in_production_function'))"
   ]
  },
  {
   "cell_type": "code",
   "execution_count": 6,
   "metadata": {},
   "outputs": [
    {
     "name": "stdout",
     "output_type": "stream",
     "text": [
      "0.1\n"
     ]
    }
   ],
   "source": [
    "print(model.__getattribute__('depreciation_rate_capital'))"
   ]
  },
  {
   "cell_type": "code",
   "execution_count": null,
   "metadata": {},
   "outputs": [],
   "source": []
  }
 ],
 "metadata": {
  "kernelspec": {
   "display_name": "base",
   "language": "python",
   "name": "python3"
  },
  "language_info": {
   "codemirror_mode": {
    "name": "ipython",
    "version": 3
   },
   "file_extension": ".py",
   "mimetype": "text/x-python",
   "name": "python",
   "nbconvert_exporter": "python",
   "pygments_lexer": "ipython3",
   "version": "3.9.10"
  },
  "orig_nbformat": 4
 },
 "nbformat": 4,
 "nbformat_minor": 2
}
