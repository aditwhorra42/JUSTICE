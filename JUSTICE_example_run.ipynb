{
 "cells": [
  {
   "cell_type": "markdown",
   "metadata": {},
   "source": [
    "# Example: JUSTICE - IAM Simulation Run"
   ]
  },
  {
   "cell_type": "code",
   "execution_count": 1,
   "metadata": {},
   "outputs": [],
   "source": [
    "import pandas as pd\n",
    "import numpy as np\n",
    "\n",
    "from src.data_loader import DataLoader\n",
    "from src.enumerations import *\n",
    "from src.model_time import TimeHorizon\n",
    "from src.model import JUSTICE"
   ]
  },
  {
   "cell_type": "markdown",
   "metadata": {},
   "source": [
    "### Setting Some Dummy Policy Levers"
   ]
  },
  {
   "cell_type": "markdown",
   "metadata": {},
   "source": [
    "#### Lever: Fixed Savings rate"
   ]
  },
  {
   "cell_type": "code",
   "execution_count": 2,
   "metadata": {},
   "outputs": [
    {
     "data": {
      "image/png": "[encoded data removed]",
      "text/plain": [
       "<Figure size 432x288 with 1 Axes>"
      ]
     },
     "metadata": {
      "needs_background": "light"
     },
     "output_type": "display_data"
    },
    {
     "name": "stdout",
     "output_type": "stream",
     "text": [
      "(57, 286)\n"
     ]
    }
   ],
   "source": [
    "# Load the data\n",
    "data_loader = DataLoader()\n",
    "\n",
    "# Instantiate the TimeHorizon class\n",
    "time_horizon = TimeHorizon(start_year=2015, end_year=2300, data_timestep=5, timestep=1)\n",
    "\n",
    "#Create a fixed savings rate\n",
    "fixed_savings_rate = np.copy(data_loader.SAVING_RATE_INIT_ARRAY).reshape(-1, 1)\n",
    "#fixed_savings_rate Validated with RICE50 for timestep 1 and 5\n",
    "\n",
    "set_year = time_horizon.model_time_horizon\n",
    "#economy.get_optimal_long_run_savings_rate() = 0.2582781457 #This needs the economy module to be instantiated\n",
    "\n",
    "for i, years in enumerate(set_year):\n",
    "    \n",
    "    t = i+1 #index starts at 0, so add 1 to get the year\n",
    "\n",
    "    if t != 1: # no need to repeat for the first year\n",
    "\n",
    "        next_rate = data_loader.SAVING_RATE_INIT_ARRAY + (0.2582781457  - data_loader.SAVING_RATE_INIT_ARRAY)*((t - 1)/(len(set_year) - 1))\n",
    "        # append to the fixed savings rate array for each year\n",
    "        fixed_savings_rate = np.column_stack((fixed_savings_rate, next_rate))\n",
    "\n",
    "from matplotlib import pyplot as plt\n",
    "plt.plot(np.sum(fixed_savings_rate, axis=0))\n",
    "plt.title(\"Fixed Savings Rate\")\n",
    "plt.xlabel(\"Time\")\n",
    "plt.ylabel(\"Savings Rate\")\n",
    "plt.show()\n",
    "print(fixed_savings_rate.shape)"
   ]
  },
  {
   "cell_type": "code",
   "execution_count": 3,
   "metadata": {},
   "outputs": [
    {
     "name": "stdout",
     "output_type": "stream",
     "text": [
      "Minimum savings rate:  0.09317\n"
     ]
    }
   ],
   "source": [
    "# Save fixed savings rate as a csv file using pandas\n",
    "\n",
    "# df = pd.DataFrame(fixed_savings_rate)\n",
    "# df.to_csv('config/savings_rate_fixed.csv', index=False)\n",
    "# Find the minimum savings rate\n",
    "print(\"Minimum savings rate: \", np.min(fixed_savings_rate))"
   ]
  },
  {
   "cell_type": "markdown",
   "metadata": {},
   "source": [
    "#### Lever: Linear Emissions Control Rate"
   ]
  },
  {
   "cell_type": "code",
   "execution_count": 4,
   "metadata": {},
   "outputs": [
    {
     "data": {
      "image/png": "[encoded data removed]",
      "text/plain": [
       "<Figure size 432x288 with 1 Axes>"
      ]
     },
     "metadata": {
      "needs_background": "light"
     },
     "output_type": "display_data"
    }
   ],
   "source": [
    "#emissions control rate borrowed from emissions module\n",
    "\n",
    "#Variables to be changed/deleted later\n",
    "miu_initial = 0.0\n",
    "min_miu = 0.2 #0.0 #1.0\n",
    "min_miu_year = 2055 #9-original #8 in this model  # 2060\n",
    "max_miu = 1.0 #1.2\n",
    "max_miu_year = 2200 #38-original #37 in this model #2205\n",
    "\n",
    "t_min_miu = time_horizon.year_to_timestep(min_miu_year, timestep=1)\n",
    "t_max_miu = time_horizon.year_to_timestep(max_miu_year, timestep=1)\n",
    "\n",
    "#Initialize emissions control rate\n",
    "emissions_control_rate = np.zeros((len(data_loader.REGION_LIST), len(time_horizon.model_time_horizon)))\n",
    "\n",
    "for t in range(len(time_horizon.model_time_horizon)):\n",
    "    \n",
    "    if t < t_min_miu:       # Before time of transition\n",
    "        emissions_control_rate[:,t] = min_miu\n",
    "    elif t <= t_max_miu:   # Transition\n",
    "        # During the transition\n",
    "        emissions_control_rate[:, t] = min_miu + (max_miu - min_miu) * (t - t_min_miu)/(t_max_miu - t_min_miu)\n",
    "    else:                   # After the transition\n",
    "        emissions_control_rate[:, t] = max_miu\n",
    "\n",
    "\n",
    "from matplotlib import pyplot as plt\n",
    "plt.plot(emissions_control_rate[0, :])\n",
    "plt.title(\"Emissions Control Rate\")\n",
    "plt.xlabel(\"Time\")\n",
    "plt.ylabel(\"Emissions Control\")\n",
    "plt.show()"
   ]
  },
  {
   "cell_type": "code",
   "execution_count": 5,
   "metadata": {},
   "outputs": [],
   "source": [
    "# Save emissions control rate as a csv file using pandas\n",
    "\n",
    "df = pd.DataFrame(emissions_control_rate)\n",
    "df.to_csv('config/emissions_control_rate_linear.csv', index=False)"
   ]
  },
  {
   "cell_type": "markdown",
   "metadata": {},
   "source": [
    "## 1. JUSTICE Initialisation"
   ]
  },
  {
   "cell_type": "code",
   "execution_count": 6,
   "metadata": {},
   "outputs": [
    {
     "name": "stdout",
     "output_type": "stream",
     "text": [
      "0 SSP119\n",
      "1 SSP126\n",
      "2 SSP245\n",
      "3 SSP370\n",
      "4 SSP434\n",
      "5 SSP460\n",
      "6 SSP534\n",
      "7 SSP585\n"
     ]
    }
   ],
   "source": [
    "# Get list of Scenarios from Enum\n",
    "\n",
    "for idx, scenarios in enumerate(list(Scenario.__members__.keys())):\n",
    "    print(idx, scenarios)"
   ]
  },
  {
   "cell_type": "code",
   "execution_count": 7,
   "metadata": {},
   "outputs": [],
   "source": [
    "scenarios = 7\n",
    "model = JUSTICE(\n",
    "        \n",
    "        start_year = 2015,\n",
    "        end_year = 2300,\n",
    "        timestep = 1,\n",
    "        scenario =scenarios,\n",
    "        economy_type=Economy.NEOCLASSICAL,\n",
    "        damage_function_type=DamageFunction.KALKUHL,\n",
    "        abatement_type=Abatement.ENERDATA,\n",
    "    )"
   ]
  },
  {
   "cell_type": "markdown",
   "metadata": {},
   "source": [
    "## 2. Run"
   ]
  },
  {
   "cell_type": "code",
   "execution_count": 8,
   "metadata": {},
   "outputs": [],
   "source": [
    "model.run(savings_rate = fixed_savings_rate, emissions_control_rate = emissions_control_rate)"
   ]
  },
  {
   "cell_type": "markdown",
   "metadata": {},
   "source": [
    "## 3. Evaluate - SWF - and Generated Output Datasets"
   ]
  },
  {
   "cell_type": "code",
   "execution_count": 9,
   "metadata": {},
   "outputs": [
    {
     "name": "stdout",
     "output_type": "stream",
     "text": [
      "(57, 286, 1001)\n",
      "discount_rate.shape (57, 286, 1)\n",
      "dict_keys(['net_economic_output', 'consumption', 'consumption_per_capita', 'emissions', 'regional_temperature', 'global_temperature', 'economic_damage', 'abatement_cost', 'carbon_price', 'disentangled_utility', 'welfare_utilitarian'])\n"
     ]
    }
   ],
   "source": [
    "datasets = model.evaluate(welfare_function=WelfareFunction.UTILITARIAN, elasticity_of_marginal_utility_of_consumption = 1.45, pure_rate_of_social_time_preference = 0.015, inequality_aversion = 0.5)\n",
    "\n",
    "print(model.get_outcome_names())"
   ]
  },
  {
   "cell_type": "code",
   "execution_count": 10,
   "metadata": {},
   "outputs": [],
   "source": [
    "net_output = datasets['net_economic_output']\n",
    "consumption = datasets['consumption'] #(57, 286, 1001)\n",
    "cpc = datasets['consumption_per_capita'] #(57, 286, 1001)\n",
    "emis = datasets['emissions'] #(57, 286, 1001)\n",
    "reg_temp = datasets['regional_temperature']\n",
    "temp = datasets['global_temperature'] # (286, 1001)\n",
    "damages = datasets['economic_damage'] #(57, 286, 1001)\n",
    "abatecost = datasets['abatement_cost'] #(57, 286, 1001)\n",
    "dis_util = datasets['disentangled_utility'] #(57, 286, 1001)\n",
    "util = datasets['welfare_utilitarian'] # (286, 1001)\n"
   ]
  },
  {
   "cell_type": "code",
   "execution_count": 13,
   "metadata": {},
   "outputs": [
    {
     "data": {
      "image/png": "[encoded data removed]",
      "text/plain": [
       "<Figure size 432x288 with 1 Axes>"
      ]
     },
     "metadata": {
      "needs_background": "light"
     },
     "output_type": "display_data"
    }
   ],
   "source": []
  },
  {
   "cell_type": "code",
   "execution_count": null,
   "metadata": {},
   "outputs": [],
   "source": [
    "# Assuming U, E, and C are your utility, emission, and consumption 3D numpy arrays...\n",
    "\n",
    "# Prepare zero-filled 3D arrays for storing the results of gradient operations\n",
    "# eq_E_m = np.zeros_like(cpc)\n",
    "# eq_cc_m = np.zeros_like(cpc)\n",
    "\n",
    "# # Calculate derivatives \n",
    "# eq_E_m = np.diff(dis_util, axis=1) / np.diff(emis, axis=1)\n",
    "# eq_cc_m = np.diff(dis_util, axis=1) / np.diff(consumption, axis=1)\n",
    "\n",
    "# # # Perform the operations slice by slice in a loop\n",
    "# for i in range(cpc.shape[2]):\n",
    "#     eq_E_m[:, :, i] = np.gradient(dis_util[:, :, i], emis[:, :, i], axis=1, edge_order=2)\n",
    "#     eq_cc_m[:, :, i] = np.gradient(dis_util[:, :, i], consumption[:, :, i], axis=1, edge_order=2)\n",
    "\n",
    "# # Calculate SCC\n",
    "# SCC = -1000 * eq_E_m / eq_cc_m\n",
    "\n",
    "# Sum up all the regions resulting in a 2D array (time, scenarios) for each variable\n",
    "# dis_util_sum = np.sum(dis_util, axis=0)\n",
    "# emis_sum = np.sum(emis, axis=0)\n",
    "# cpc_sum = np.sum(cpc, axis=0)\n",
    "\n",
    "# # Create zero-filled 2D arrays for storing the results of gradient operations\n",
    "# eq_E_m = np.zeros_like(dis_util_sum)\n",
    "# eq_cc_m = np.zeros_like(dis_util_sum)\n",
    "\n",
    "# # Compute the derivatives for each scenario over time using np.gradient\n",
    "# for i in range(dis_util_sum.shape[1]):  # Loop over scenarios\n",
    "#     eq_E_m[:, i] = np.gradient(dis_util_sum[:, i], emis_sum[:, i], edge_order=2)\n",
    "#     eq_cc_m[:, i] = np.gradient(dis_util_sum[:, i], cpc_sum[:, i], edge_order=2)\n",
    "\n",
    "# # Calculate SCC\n",
    "# SCC = -1000 * eq_E_m / eq_cc_m"
   ]
  },
  {
   "cell_type": "code",
   "execution_count": null,
   "metadata": {},
   "outputs": [],
   "source": [
    "testdf = dis_util[:,:,0]\n",
    "\n",
    "# Sum the testdf for all regions\n",
    "#testdf = np.sum(testdf, axis=0)"
   ]
  },
  {
   "cell_type": "code",
   "execution_count": null,
   "metadata": {},
   "outputs": [],
   "source": [
    "#damagedf = damages[:,:,0]\n",
    "# time_horizon.model_time_horizon"
   ]
  },
  {
   "cell_type": "markdown",
   "metadata": {},
   "source": [
    "## 4. Visualize"
   ]
  },
  {
   "cell_type": "code",
   "execution_count": null,
   "metadata": {},
   "outputs": [],
   "source": [
    "import seaborn as sns\n",
    "import matplotlib.pyplot as plt\n",
    "\n",
    "# Create list of all the data arrays\n",
    "data_list = [net_output, cpc, emis, reg_temp, damages, abatecost]\n",
    "titles = ['Net Economic Output', 'Consumption per Capita', 'Emissions', 'Regional Temperature', 'Economic Damages', 'Abatement Cost']\n",
    "\n",
    "region_index = 0\n",
    "\n",
    "# Create a figure with 2 rows and 3 columns\n",
    "fig, axs = plt.subplots(2, 3, figsize=(15, 10))\n",
    "\n",
    "# Flatten the axs array to iterate over it\n",
    "axs = axs.flatten()\n",
    "\n",
    "# Iterate over the data arrays and plot them\n",
    "for i, data in enumerate(data_list):\n",
    "    # Select the region based on region_index\n",
    "    region_data = data[region_index, :, :]\n",
    "    \n",
    "    # Create a line plot for each scenario\n",
    "    for j in range(region_data.shape[1]):\n",
    "        sns.lineplot(x=time_horizon.model_time_horizon, y=region_data[:, j], ax=axs[i])\n",
    "    \n",
    "    # Set the title and axis labels\n",
    "    axs[i].set_title(titles[i])\n",
    "    axs[i].set_xlabel('Year')\n",
    "    axs[i].set_ylabel('Value')\n",
    "    \n",
    "# Remove the unused subplots\n",
    "for i in range(len(data_list), len(axs)):\n",
    "    fig.delaxes(axs[i])\n",
    "\n",
    "# Adjust the layout and spacing\n",
    "fig.tight_layout()\n",
    "plt.subplots_adjust(hspace=0.5)\n",
    "\n",
    "\n",
    "\n"
   ]
  },
  {
   "cell_type": "markdown",
   "metadata": {},
   "source": [
    "## Run All Scenarios"
   ]
  },
  {
   "cell_type": "code",
   "execution_count": null,
   "metadata": {},
   "outputs": [],
   "source": [
    "# Create a dictionary to store the data for each scenario\n",
    "scenario_data = {}\n",
    "\n",
    "\n",
    "for idx, scenarios in enumerate(list(Scenario)):\n",
    "    print(idx, scenarios)\n",
    "    \n",
    "    # Initialize the model\n",
    "    model = JUSTICE(\n",
    "        \n",
    "        start_year = 2015,\n",
    "        end_year = 2300,\n",
    "        timestep = 1,\n",
    "        scenario =scenarios,\n",
    "        economy_type=Economy.NEOCLASSICAL,\n",
    "        damage_function_type=DamageFunction.KALKUHL,\n",
    "        abatement_type=Abatement.ENERDATA,\n",
    "    )\n",
    "    \n",
    "    # Run the model\n",
    "    model.run(savings_rate = fixed_savings_rate, emissions_control_rate = emissions_control_rate)\n",
    "\n",
    "    # Evaluate the model\n",
    "    scenario_data[scenarios] = model.evaluate(welfare_function=WelfareFunction.UTILITARIAN)\n"
   ]
  },
  {
   "cell_type": "markdown",
   "metadata": {},
   "source": [
    "## EMA Workbench Tests"
   ]
  },
  {
   "cell_type": "code",
   "execution_count": 1,
   "metadata": {},
   "outputs": [],
   "source": [
    "from analysis.analyzer import perform_exploratory_analysis"
   ]
  },
  {
   "cell_type": "code",
   "execution_count": 2,
   "metadata": {},
   "outputs": [
    {
     "name": "stderr",
     "output_type": "stream",
     "text": [
      "[MainProcess/INFO] performing 1 scenarios * 2 policies * 1 model(s) = 2 experiments\n",
      "  0%|                                                    | 0/2 [00:00<?, ?it/s][MainProcess/INFO] performing experiments sequentially\n",
      "100%|████████████████████████████████████████████| 2/2 [00:33<00:00, 16.60s/it]\n",
      "[MainProcess/INFO] experiments finished\n",
      "[MainProcess/INFO] results saved successfully to /Users/palokbiswas/Desktop/pollockdevis_git/JUSTICE/data/output/results_open_exploration_1\n"
     ]
    }
   ],
   "source": [
    "perform_exploratory_analysis(number_of_experiments=1)"
   ]
  },
  {
   "cell_type": "code",
   "execution_count": null,
   "metadata": {},
   "outputs": [],
   "source": [
    "# from src.util.EMA_model_wrapper import model_wrapper\n",
    "# from ema_workbench import Model, RealParameter\n",
    "\n",
    "# sr_levers = []\n",
    "# ecr_levers = []\n",
    "# for i in range(57):\n",
    "#     for j in range(286):\n",
    "#         sr_levers.append(RealParameter(f\"savings_rate {i} {j}\", 0.05, 0.5))\n",
    "#         ecr_levers.append(\n",
    "#             RealParameter(f\"emissions_control_rate {i} {j}\", 0.00, 1.0)\n",
    "#         )\n",
    "# model_wrapper(ssp_rcp_scenario=0, elasticity_of_marginal_utility_of_consumption = 1.45, pure_rate_of_social_time_preference = 0.015, inequality_aversion = 0.5, n_regions=57, n_timesteps=286, savings_rate = sr_levers, emissions_control_rate = ecr_levers)\n",
    "\n"
   ]
  },
  {
   "cell_type": "code",
   "execution_count": null,
   "metadata": {},
   "outputs": [],
   "source": []
  }
 ],
 "metadata": {
  "kernelspec": {
   "display_name": "base",
   "language": "python",
   "name": "python3"
  },
  "language_info": {
   "codemirror_mode": {
    "name": "ipython",
    "version": 3
   },
   "file_extension": ".py",
   "mimetype": "text/x-python",
   "name": "python",
   "nbconvert_exporter": "python",
   "pygments_lexer": "ipython3",
   "version": "3.9.10"
  },
  "orig_nbformat": 4
 },
 "nbformat": 4,
 "nbformat_minor": 2
}
