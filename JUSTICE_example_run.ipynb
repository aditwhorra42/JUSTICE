{
 "cells": [
  {
   "cell_type": "code",
   "execution_count": null,
   "metadata": {},
   "outputs": [],
   "source": [
    "# # model.fair_fill_data(time_horizon=time_horizon, scenarios=[\"ssp245\"])\n",
    "# # model.test_init_fair(scenarios=[\"ssp245\"], time_horizon=time_horizon)\n",
    "# model.species_configs\n",
    "# model.configs\n",
    "from src.enumerations import *\n",
    "scenario = SSP.SSP1\n",
    "fair_scenario = [(ssp_to_rcp[scenario]).value]\n",
    "\n",
    "model.fair_justice_run_init(time_horizon=time_horizon, scenarios=fair_scenario)\n",
    "\n",
    "print(fair_scenario)"
   ]
  },
  {
   "cell_type": "code",
   "execution_count": null,
   "metadata": {},
   "outputs": [],
   "source": [
    "# time_horizon.start_year - 1750\n",
    "\n",
    "print(model.__getattribute__('number_of_ensembles'))"
   ]
  },
  {
   "cell_type": "code",
   "execution_count": null,
   "metadata": {},
   "outputs": [],
   "source": [
    "loop_counter =  model.__getattribute__(\"fair_historical_timestep_run_count\")\n",
    "print(loop_counter)"
   ]
  },
  {
   "cell_type": "code",
   "execution_count": null,
   "metadata": {},
   "outputs": [],
   "source": [
    "\"\"\"\n",
    "#This is for FAIR #Loop should run till (len(justice_run_years) -1 )\n",
    "for i in range(loop_counter, (len(justice_run_years) - 1 )): # This works. The justice loop should run from loop counter and end with the last year of the justice run\n",
    "    print(i , justice_run_years[i])\n",
    "    # print(i)\n",
    "    # start_time = time.time()\n",
    "    model.stepwise_run(i)\n",
    "    # end_time = time.time()  # palok\n",
    "    # elapsed_time = end_time - start_time  # calculate the difference\n",
    "    # f.calculate_toa_ocean_airborne_fraction()\n",
    "    # f.prepare_output_xarrays()\n",
    "\n",
    "\n",
    "\"\"\""
   ]
  },
  {
   "cell_type": "code",
   "execution_count": null,
   "metadata": {},
   "outputs": [],
   "source": [
    "#Shape: timepoints, scenarios and ensemblemodels\n",
    "current_emissions = model.emissions.sel(specie=\"CO2 FFI\", scenario=fair_scenario)\n",
    "#Plots the current emissions\n",
    "current_emissions = current_emissions[:,0,:]"
   ]
  },
  {
   "cell_type": "markdown",
   "metadata": {},
   "source": [
    "# NEW EXPERIMENTS OF INTEGRATION"
   ]
  },
  {
   "cell_type": "code",
   "execution_count": null,
   "metadata": {},
   "outputs": [],
   "source": [
    "from src.economy.neoclassical import NeoclassicalEconomyModel\n",
    "from src.emissions.emission import OutputToEmissions\n",
    "#from economy.neoclassical import NeoclassicalEconomyModel\n",
    "from src.data_loader import DataLoader\n",
    "from src.enumerations import *\n",
    "from src.model_time import TimeHorizon\n",
    "from src.climate.temperature_downscaler import TemperatureDownscaler\n",
    "# Instantiate the data loader\n",
    "from src.climate.coupled_fair import CoupledFAIR\n",
    "from src.enumerations import *\n",
    "import pandas as pd\n",
    "import numpy as np\n",
    "from src.damage.kalkuhl import DamageKalkuhl\n",
    "\n",
    "\n"
   ]
  },
  {
   "cell_type": "code",
   "execution_count": null,
   "metadata": {},
   "outputs": [],
   "source": [
    "scenario = SSP.SSP1\n",
    "fair_scenario = [(ssp_to_rcp[scenario]).value]\n",
    "\n",
    "\n",
    "\n",
    "# Load the data\n",
    "data_loader = DataLoader()\n",
    "\n",
    "\n",
    "# Instantiate the TimeHorizon class\n",
    "time_horizon = TimeHorizon(start_year=2015, end_year=2300, data_timestep=5, timestep=1)\n",
    "\n",
    "model = CoupledFAIR()\n",
    "downscaler = TemperatureDownscaler(input_dataset = data_loader)\n",
    "\n",
    "model.fair_justice_run_init(time_horizon=time_horizon, scenarios=fair_scenario)\n",
    "\n",
    "damage_function = DamageKalkuhl(input_dataset=data_loader, time_horizon=time_horizon, climate_model=model)"
   ]
  },
  {
   "cell_type": "code",
   "execution_count": null,
   "metadata": {},
   "outputs": [],
   "source": [
    "no_of_ensembles = model.__getattribute__('number_of_ensembles')\n",
    "print(no_of_ensembles)\n",
    "economy = NeoclassicalEconomyModel(input_dataset = data_loader, time_horizon=time_horizon, climate_ensembles=no_of_ensembles)\n",
    "emissions = OutputToEmissions(input_dataset=data_loader, time_horizon=time_horizon, climate_ensembles=no_of_ensembles)\n"
   ]
  },
  {
   "cell_type": "code",
   "execution_count": null,
   "metadata": {},
   "outputs": [],
   "source": [
    "\n",
    "#Create a fixed savings rate\n",
    "fixed_savings_rate = np.copy(data_loader.SAVING_RATE_INIT_ARRAY).reshape(-1, 1)\n",
    "#fixed_savings_rate Validated with RICE50 for timestep 1 and 5\n",
    "\n",
    "set_year = time_horizon.model_time_horizon\n",
    "\n",
    "\n",
    "for i, years in enumerate(set_year):\n",
    "    \n",
    "    t = i+1 #index starts at 0, so add 1 to get the year\n",
    "\n",
    "    if t != 1: # no need to repeat for the first year\n",
    "\n",
    "        next_rate = data_loader.SAVING_RATE_INIT_ARRAY + (economy.get_optimal_long_run_savings_rate() - data_loader.SAVING_RATE_INIT_ARRAY)*((t - 1)/(len(set_year) - 1))\n",
    "        # append to the fixed savings rate array for each year\n",
    "        fixed_savings_rate = np.column_stack((fixed_savings_rate, next_rate))\n",
    "\n",
    "from matplotlib import pyplot as plt\n",
    "plt.plot(np.sum(fixed_savings_rate, axis=0))\n",
    "plt.title(\"Fixed Savings Rate\")\n",
    "plt.xlabel(\"Time\")\n",
    "plt.ylabel(\"Savings Rate\")\n",
    "plt.show()"
   ]
  },
  {
   "cell_type": "code",
   "execution_count": null,
   "metadata": {},
   "outputs": [],
   "source": [
    "scenario = 0 #SSP.SSP1\n",
    "#print(scenario.value)\n",
    "\n",
    "# temp_emissions = np.zeros((57, 286, 1001))\n",
    "damage = np.zeros((57, 286, 1001))\n",
    "# Regional temperature array\n",
    "#regional_temperature = np.zeros((57, 286, 1001))\n",
    "\n",
    "for i in (range(len(set_year) - 1)):\n",
    "    output = economy.run(scenario = scenario, timestep=i, savings_rate=fixed_savings_rate[:, i])\n",
    "\n",
    "    #print shape of output\n",
    "    #print(output.shape)\n",
    "\n",
    "    emissions_array = emissions.run_emissions(timestep=i, scenario=scenario, output=output, emission_control_rate=0.0) #[:,i,:]\n",
    "    # print(emissions_array[:,i,:].shape)\n",
    "    total_emissions = np.sum(emissions_array, axis=0)\n",
    "    # reshape total_emissions\n",
    "    # total_emissions = total_emissions.reshape(1, *total_emissions.shape)\n",
    "    #print(total_emissions[:,0])\n",
    "    #print(total_emissions.shape)\n",
    "    # print(total_emissions[:,0])\n",
    "    \n",
    "    global_temperature = model.compute_temperature_from_emission(i, total_emissions)\n",
    "    regional_temperature = downscaler.get_regional_temperature(global_temperature)\n",
    "    damage[:,i,:] = damage_function.calculate_damage(temperature=regional_temperature, timestep=i)\n",
    "\n",
    "\n",
    "\n",
    "\n",
    "\n",
    "\n",
    "    \n",
    "\n"
   ]
  },
  {
   "cell_type": "code",
   "execution_count": null,
   "metadata": {},
   "outputs": [],
   "source": [
    "testdf = damage[:, :, 570]"
   ]
  },
  {
   "cell_type": "code",
   "execution_count": null,
   "metadata": {},
   "outputs": [],
   "source": [
    "testdf2 = regional_temperature[:,:, 0] "
   ]
  },
  {
   "cell_type": "code",
   "execution_count": null,
   "metadata": {},
   "outputs": [],
   "source": [
    "temperature = model.get_temperature_array()\n",
    "\n",
    "temp = temperature[:,0,:,2]"
   ]
  },
  {
   "cell_type": "code",
   "execution_count": null,
   "metadata": {},
   "outputs": [],
   "source": [
    "model.calculate_toa_ocean_airborne_fraction()\n",
    "model.prepare_output_xarrays()"
   ]
  },
  {
   "cell_type": "code",
   "execution_count": null,
   "metadata": {},
   "outputs": [],
   "source": [
    "import matplotlib.pyplot as pl\n",
    "pl.plot(model.timebounds, model.temperature.loc[dict(scenario=\"ssp119\", layer=0)], label=model.configs);\n",
    "pl.title('ssp: temperature')\n",
    "pl.xlabel('year')\n",
    "pl.ylabel('Temperature anomaly (K)')"
   ]
  },
  {
   "cell_type": "code",
   "execution_count": null,
   "metadata": {},
   "outputs": [],
   "source": [
    "model.temperature.loc[dict(scenario=\"ssp119\", layer=0)].shape"
   ]
  },
  {
   "cell_type": "code",
   "execution_count": null,
   "metadata": {},
   "outputs": [],
   "source": [
    "import matplotlib.pyplot as pl\n",
    "temperature = model.get_temperature_array()\n",
    "\n",
    "\n",
    "\n",
    "#Plot temp array of shape (551, 1001) where 551 is the number of years and 1001 is the number of ensembles\n",
    "# Shape [timestep, scenario, ensemble, box/layer=0]\n",
    "temp = temperature[:,0,:,0]\n",
    "print(temp.shape)\n",
    "\n",
    "#Shape: timepoints, scenarios and ensemblemodels\n",
    "pl.plot(model.timebounds, temp, label=model.configs);\n",
    "pl.title('ssp: temperature')\n",
    "pl.xlabel('year')\n",
    "pl.ylabel('Temperature anomaly (K)')"
   ]
  },
  {
   "cell_type": "code",
   "execution_count": null,
   "metadata": {},
   "outputs": [],
   "source": [
    "#Extracting the temperature data\n",
    "\n",
    "temp = model.temperature.loc[dict(scenario=fair_scenario, layer=0)]\n",
    "temp.name = 'temperature'\n",
    "temp_df = temp.to_dataframe().reset_index()\n"
   ]
  },
  {
   "cell_type": "code",
   "execution_count": null,
   "metadata": {},
   "outputs": [],
   "source": [
    "total_emis_test = emissions_array #[:,:,0]\n",
    "#sum all the emissions of regions per timestep to get total emissions for each timestep\n",
    "total_emis_test = np.sum(total_emis_test, axis=0)\n",
    "#testdf = pd.DataFrame(emissions_array[:,:,0])\n"
   ]
  },
  {
   "cell_type": "code",
   "execution_count": null,
   "metadata": {},
   "outputs": [],
   "source": [
    "\n",
    "testdf = pd.DataFrame(model.emissions.sel(specie=\"CO2 FFI\", scenario=\"ssp119\"))"
   ]
  },
  {
   "cell_type": "code",
   "execution_count": null,
   "metadata": {},
   "outputs": [],
   "source": [
    "testdf2 = total_emissions[:,:,0]"
   ]
  },
  {
   "cell_type": "code",
   "execution_count": null,
   "metadata": {},
   "outputs": [],
   "source": [
    "testdf2 = emissions_array[:,:,0]"
   ]
  },
  {
   "cell_type": "code",
   "execution_count": null,
   "metadata": {},
   "outputs": [],
   "source": []
  }
 ],
 "metadata": {
  "kernelspec": {
   "display_name": "base",
   "language": "python",
   "name": "python3"
  },
  "language_info": {
   "codemirror_mode": {
    "name": "ipython",
    "version": 3
   },
   "file_extension": ".py",
   "mimetype": "text/x-python",
   "name": "python",
   "nbconvert_exporter": "python",
   "pygments_lexer": "ipython3",
   "version": "3.9.10"
  },
  "orig_nbformat": 4
 },
 "nbformat": 4,
 "nbformat_minor": 2
}
