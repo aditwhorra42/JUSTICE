{
 "cells": [
  {
   "cell_type": "code",
   "execution_count": 1,
   "metadata": {},
   "outputs": [
    {
     "name": "stdout",
     "output_type": "stream",
     "text": [
      "/Users/palokbiswas/Desktop/pollockdevis_git/JUSTICE\n"
     ]
    }
   ],
   "source": [
    "\n",
    "\n",
    "#Get the path of the current working directory\n",
    "import os\n",
    "cwd = os.getcwd()\n",
    "print(cwd)\n",
    "\n"
   ]
  },
  {
   "cell_type": "code",
   "execution_count": 2,
   "metadata": {},
   "outputs": [
    {
     "name": "stdout",
     "output_type": "stream",
     "text": [
      "[2015 2020 2025 2030 2035 2040 2045 2050 2055 2060 2065 2070 2075 2080\n",
      " 2085 2090 2095 2100 2105 2110 2115 2120 2125 2130 2135 2140 2145 2150\n",
      " 2155 2160 2165 2170 2175 2180 2185 2190 2195 2200 2205 2210 2215 2220\n",
      " 2225 2230 2235 2240 2245 2250 2255 2260 2265 2270 2275 2280 2285 2290\n",
      " 2295 2300]\n"
     ]
    }
   ],
   "source": [
    "\n",
    "\n",
    "# th = time_horizon.get_model_time_horizon()\n",
    "#print(th)\n",
    "# print(time_horizon.data_time_horizon)  \n",
    "# Pass the time_horizon object to other parts of the model"
   ]
  },
  {
   "cell_type": "code",
   "execution_count": 1,
   "metadata": {},
   "outputs": [],
   "source": [
    "path_to_justice = '/Users/palokbiswas/Desktop/pollockdevis_git/JUSTICE'\n",
    "\n",
    "# import sys\n",
    "# sys.path.insert(0, path_to_justice)\n",
    "\n",
    "\n",
    "\n",
    "from src.economy.neoclassical import NeoclassicalEconomyModel\n",
    "from src.emissions.emission import OutputToEmissions\n",
    "#from economy.neoclassical import NeoclassicalEconomyModel\n",
    "from src.data_loader import DataLoader\n",
    "from src.enumerations import *\n",
    "from src.model_time import TimeHorizon\n",
    "# Instantiate the data loader\n",
    "\n",
    "# Load the data\n",
    "data_loader = DataLoader()\n",
    "\n",
    "\n",
    "# Instantiate the TimeHorizon class\n",
    "time_horizon = TimeHorizon(start_year=2015, end_year=2300, data_timestep=5, timestep=1)"
   ]
  },
  {
   "cell_type": "code",
   "execution_count": 2,
   "metadata": {},
   "outputs": [
    {
     "name": "stdout",
     "output_type": "stream",
     "text": [
      "emissions_purge_array (550, 1, 1001)\n"
     ]
    }
   ],
   "source": [
    "\n",
    "from src.climate.coupled_fair import CoupledFAIR\n",
    "from src.enumerations import *\n",
    "scenario = SSP.SSP1\n",
    "fair_scenario = [(ssp_to_rcp[scenario]).value]\n",
    "\n",
    "model = CoupledFAIR()\n",
    "\n",
    "\n",
    "model.fair_justice_run_init(time_horizon=time_horizon, scenarios=fair_scenario)\n",
    "\n"
   ]
  },
  {
   "cell_type": "code",
   "execution_count": 5,
   "metadata": {},
   "outputs": [
    {
     "name": "stdout",
     "output_type": "stream",
     "text": [
      "1001\n"
     ]
    }
   ],
   "source": [
    "no_of_ensembles = model.__getattribute__('number_of_ensembles')\n",
    "print(no_of_ensembles)\n",
    "model = NeoclassicalEconomyModel(input_dataset = data_loader, time_horizon=time_horizon, climate_ensembles=1001)\n",
    "emissions = OutputToEmissions(input_dataset=data_loader, time_horizon=time_horizon, climate_ensembles=1001)"
   ]
  },
  {
   "cell_type": "code",
   "execution_count": 3,
   "metadata": {},
   "outputs": [],
   "source": []
  },
  {
   "cell_type": "code",
   "execution_count": 4,
   "metadata": {},
   "outputs": [],
   "source": [
    "\n"
   ]
  },
  {
   "cell_type": "code",
   "execution_count": null,
   "metadata": {},
   "outputs": [],
   "source": [
    "gdp = NeoclassicalEconomyModel.__getattribute__(model, 'gdp_dict')\n",
    "#gdp = data_loader.GDP_DICT\n",
    "testdf = gdp['SSP1']\n",
    "\n",
    "population = NeoclassicalEconomyModel.__getattribute__(model, 'population_dict')\n",
    "testdf2 = population['SSP1']"
   ]
  },
  {
   "cell_type": "code",
   "execution_count": null,
   "metadata": {},
   "outputs": [],
   "source": [
    "print(model.__getattribute__('capital_elasticity_in_production_function'))"
   ]
  },
  {
   "cell_type": "code",
   "execution_count": null,
   "metadata": {},
   "outputs": [],
   "source": [
    "print(model.__getattribute__('depreciation_rate_capital'))"
   ]
  },
  {
   "cell_type": "code",
   "execution_count": null,
   "metadata": {},
   "outputs": [],
   "source": [
    "print(model.get_optimal_long_run_savings_rate())"
   ]
  },
  {
   "cell_type": "code",
   "execution_count": 5,
   "metadata": {},
   "outputs": [
    {
     "data": {
      "image/png": "[encoded data removed]",
      "text/plain": [
       "<Figure size 432x288 with 1 Axes>"
      ]
     },
     "metadata": {
      "needs_background": "light"
     },
     "output_type": "display_data"
    }
   ],
   "source": [
    "import numpy as np\n",
    "#Create a fixed savings rate\n",
    "fixed_savings_rate = np.copy(data_loader.SAVING_RATE_INIT_ARRAY).reshape(-1, 1)\n",
    "#fixed_savings_rate Validated with RICE50 for timestep 1 and 5\n",
    "\n",
    "set_year = time_horizon.model_time_horizon\n",
    "\n",
    "\n",
    "for i, years in enumerate(set_year):\n",
    "    \n",
    "    t = i+1 #index starts at 0, so add 1 to get the year\n",
    "\n",
    "    if t != 1: # no need to repeat for the first year\n",
    "\n",
    "        next_rate = data_loader.SAVING_RATE_INIT_ARRAY + (model.get_optimal_long_run_savings_rate() - data_loader.SAVING_RATE_INIT_ARRAY)*((t - 1)/(len(set_year) - 1))\n",
    "        # append to the fixed savings rate array for each year\n",
    "        fixed_savings_rate = np.column_stack((fixed_savings_rate, next_rate))\n",
    "\n",
    "from matplotlib import pyplot as plt\n",
    "plt.plot(np.sum(fixed_savings_rate, axis=0))\n",
    "plt.title(\"Fixed Savings Rate\")\n",
    "plt.xlabel(\"Time\")\n",
    "plt.ylabel(\"Savings Rate\")\n",
    "plt.show()"
   ]
  },
  {
   "cell_type": "code",
   "execution_count": null,
   "metadata": {},
   "outputs": [],
   "source": [
    "len(set_year)"
   ]
  },
  {
   "cell_type": "code",
   "execution_count": 6,
   "metadata": {},
   "outputs": [],
   "source": [
    "scenario = 0 #SSP.SSP1\n",
    "#print(scenario.value)\n",
    "\n",
    "for i in range(len(set_year)):\n",
    "    output = model.run(scenario = scenario, timestep=i, savings_rate=fixed_savings_rate[:, i])\n",
    "    #print shape of output\n",
    "    # print(output.shape)\n",
    "    # print(i)\n",
    "    #should emissions be an array of shape region, timesteps?\n",
    "    emis = emissions.run_emissions(timestep=i, scenario=scenario, output=output[:,i,:], emission_control_rate=0.0)\n",
    "\n",
    "\n",
    "#run_emissions(self, timestep, scenario, output, emission_control_rate)"
   ]
  },
  {
   "cell_type": "code",
   "execution_count": null,
   "metadata": {},
   "outputs": [],
   "source": [
    "print(output)"
   ]
  },
  {
   "cell_type": "code",
   "execution_count": 8,
   "metadata": {},
   "outputs": [],
   "source": [
    "import pandas as pd\n",
    "testdf = pd.DataFrame(output[:,:,500])"
   ]
  },
  {
   "cell_type": "code",
   "execution_count": 9,
   "metadata": {},
   "outputs": [],
   "source": [
    "test_ems = pd.DataFrame(emis[:,0,:])"
   ]
  },
  {
   "cell_type": "code",
   "execution_count": null,
   "metadata": {},
   "outputs": [],
   "source": [
    "import pandas as pd\n",
    "testdf = pd.DataFrame(output)"
   ]
  },
  {
   "cell_type": "markdown",
   "metadata": {},
   "source": [
    "## Start here for experimentation"
   ]
  },
  {
   "cell_type": "code",
   "execution_count": 1,
   "metadata": {},
   "outputs": [],
   "source": [
    "from src.model_time import TimeHorizon\n",
    "# Instantiate the TimeHorizon class\n",
    "time_horizon = TimeHorizon(start_year=2015, end_year=2300, data_timestep=5, timestep=1)\n",
    "\n",
    "# th = time_horizon.get_model_time_horizon()\n",
    "#print(th)\n",
    "# print(time_horizon.data_time_horizon)  \n",
    "\n",
    "from src.climate.coupled_fair import CoupledFAIR\n",
    "\n",
    "model = CoupledFAIR()\n",
    "\n",
    "#model.fair_justice_run_init(time_horizon=time_horizon, scenarios=[\"ssp245\"])"
   ]
  },
  {
   "cell_type": "code",
   "execution_count": 2,
   "metadata": {},
   "outputs": [
    {
     "name": "stdout",
     "output_type": "stream",
     "text": [
      "['ssp119']\n"
     ]
    }
   ],
   "source": [
    "# # model.fair_fill_data(time_horizon=time_horizon, scenarios=[\"ssp245\"])\n",
    "# # model.test_init_fair(scenarios=[\"ssp245\"], time_horizon=time_horizon)\n",
    "# model.species_configs\n",
    "# model.configs\n",
    "from src.enumerations import *\n",
    "scenario = SSP.SSP1\n",
    "fair_scenario = [(ssp_to_rcp[scenario]).value]\n",
    "\n",
    "model.fair_justice_run_init(time_horizon=time_horizon, scenarios=fair_scenario)\n",
    "\n",
    "print(fair_scenario)"
   ]
  },
  {
   "cell_type": "code",
   "execution_count": 3,
   "metadata": {},
   "outputs": [],
   "source": []
  },
  {
   "cell_type": "code",
   "execution_count": 4,
   "metadata": {},
   "outputs": [
    {
     "name": "stdout",
     "output_type": "stream",
     "text": [
      "1001\n"
     ]
    }
   ],
   "source": [
    "# time_horizon.start_year - 1750\n",
    "\n",
    "print(model.__getattribute__('number_of_ensembles'))"
   ]
  },
  {
   "cell_type": "code",
   "execution_count": 4,
   "metadata": {},
   "outputs": [],
   "source": [
    "#create a list of years 1750 to 2014 with 1 year timestep\n",
    "#0 -> 1750\n",
    "#265 -> 2015\n",
    "#549 -> 2299\n",
    "#FAIR takes up until 549 \n",
    "#FAIR outputs t+1 for input of t\n",
    "\n",
    "import time\n",
    "import numpy as np\n",
    "# justice_run_years = np.arange(\n",
    "#     self.start_year_justice,\n",
    "#     (self.end_year_fair + self.timestep_justice),\n",
    "#     self.timestep_justice,\n",
    "# )\n",
    "justice_run_years = np.arange( #This generates till 2300\n",
    "    2015,\n",
    "    (2300 + 1),\n",
    "    1,\n",
    ")\n",
    "\n",
    "#Loop through the number of years starting with zero for 1750\n",
    "#0\n",
    "#Need to do this prerun in the init\n",
    "#Then figure out how to clear emissions and refill with new emissions\n",
    "\n"
   ]
  },
  {
   "cell_type": "code",
   "execution_count": 4,
   "metadata": {},
   "outputs": [],
   "source": [
    "temperature = model.get_temperature_array()\n",
    "\n",
    "temp = temperature[:,0,:,0]"
   ]
  },
  {
   "cell_type": "code",
   "execution_count": 6,
   "metadata": {},
   "outputs": [
    {
     "name": "stdout",
     "output_type": "stream",
     "text": [
      "265\n"
     ]
    }
   ],
   "source": [
    "loop_counter =  model.__getattribute__(\"fair_historical_timestep_run_count\")\n",
    "print(loop_counter)"
   ]
  },
  {
   "cell_type": "code",
   "execution_count": 7,
   "metadata": {},
   "outputs": [
    {
     "data": {
      "text/plain": [
       "286"
      ]
     },
     "execution_count": 7,
     "metadata": {},
     "output_type": "execute_result"
    }
   ],
   "source": [
    "len(justice_run_years)\n"
   ]
  },
  {
   "cell_type": "code",
   "execution_count": 7,
   "metadata": {},
   "outputs": [],
   "source": [
    "for i in range(loop_counter, (((len(justice_run_years))+loop_counter)-1)):\n",
    "    #print(i)\n",
    "    model.stepwise_run(i)"
   ]
  },
  {
   "cell_type": "code",
   "execution_count": 11,
   "metadata": {},
   "outputs": [
    {
     "data": {
      "text/plain": [
       "'\\n#This is for FAIR #Loop should run till (len(justice_run_years) -1 )\\nfor i in range(loop_counter, (len(justice_run_years) - 1 )): # This works. The justice loop should run from loop counter and end with the last year of the justice run\\n    print(i , justice_run_years[i])\\n    # print(i)\\n    # start_time = time.time()\\n    model.stepwise_run(i)\\n    # end_time = time.time()  # palok\\n    # elapsed_time = end_time - start_time  # calculate the difference\\n    # f.calculate_toa_ocean_airborne_fraction()\\n    # f.prepare_output_xarrays()\\n\\n\\n'"
      ]
     },
     "execution_count": 11,
     "metadata": {},
     "output_type": "execute_result"
    }
   ],
   "source": [
    "\"\"\"\n",
    "#This is for FAIR #Loop should run till (len(justice_run_years) -1 )\n",
    "for i in range(loop_counter, (len(justice_run_years) - 1 )): # This works. The justice loop should run from loop counter and end with the last year of the justice run\n",
    "    print(i , justice_run_years[i])\n",
    "    # print(i)\n",
    "    # start_time = time.time()\n",
    "    model.stepwise_run(i)\n",
    "    # end_time = time.time()  # palok\n",
    "    # elapsed_time = end_time - start_time  # calculate the difference\n",
    "    # f.calculate_toa_ocean_airborne_fraction()\n",
    "    # f.prepare_output_xarrays()\n",
    "\n",
    "\n",
    "\"\"\""
   ]
  },
  {
   "cell_type": "code",
   "execution_count": 13,
   "metadata": {},
   "outputs": [
    {
     "ename": "AttributeError",
     "evalue": "'NeoclassicalEconomyModel' object has no attribute 'get_temperature_array'",
     "output_type": "error",
     "traceback": [
      "\u001b[0;31m---------------------------------------------------------------------------\u001b[0m",
      "\u001b[0;31mAttributeError\u001b[0m                            Traceback (most recent call last)",
      "\u001b[1;32m/Users/palokbiswas/Desktop/pollockdevis_git/JUSTICE/JUSTICE_example_run.ipynb Cell 30\u001b[0m line \u001b[0;36m<cell line: 1>\u001b[0;34m()\u001b[0m\n\u001b[0;32m----> <a href='vscode-notebook-cell:/Users/palokbiswas/Desktop/pollockdevis_git/JUSTICE/JUSTICE_example_run.ipynb#X34sZmlsZQ%3D%3D?line=0'>1</a>\u001b[0m temperature \u001b[39m=\u001b[39m model\u001b[39m.\u001b[39;49mget_temperature_array()\n\u001b[1;32m      <a href='vscode-notebook-cell:/Users/palokbiswas/Desktop/pollockdevis_git/JUSTICE/JUSTICE_example_run.ipynb#X34sZmlsZQ%3D%3D?line=2'>3</a>\u001b[0m temp \u001b[39m=\u001b[39m temperature[:,\u001b[39m0\u001b[39m,:,\u001b[39m0\u001b[39m]\n",
      "File \u001b[0;32m~/Desktop/pollockdevis_git/JUSTICE/src/economy/neoclassical.py:275\u001b[0m, in \u001b[0;36mNeoclassicalEconomyModel.__getattribute__\u001b[0;34m(self, _NeoclassicalEconomyModel__name)\u001b[0m\n\u001b[1;32m    271\u001b[0m \u001b[39mdef\u001b[39;00m \u001b[39m__getattribute__\u001b[39m(\u001b[39mself\u001b[39m, __name: \u001b[39mstr\u001b[39m) \u001b[39m-\u001b[39m\u001b[39m>\u001b[39m Any:\n\u001b[1;32m    272\u001b[0m     \u001b[39m\"\"\"\u001b[39;00m\n\u001b[1;32m    273\u001b[0m \u001b[39m    This method returns the value of the attribute of the class.\u001b[39;00m\n\u001b[1;32m    274\u001b[0m \u001b[39m    \"\"\"\u001b[39;00m\n\u001b[0;32m--> 275\u001b[0m     \u001b[39mreturn\u001b[39;00m \u001b[39mobject\u001b[39;49m\u001b[39m.\u001b[39;49m\u001b[39m__getattribute__\u001b[39;49m(\u001b[39mself\u001b[39;49m, __name)\n",
      "\u001b[0;31mAttributeError\u001b[0m: 'NeoclassicalEconomyModel' object has no attribute 'get_temperature_array'"
     ]
    }
   ],
   "source": [
    "temperature = model.get_temperature_array()\n",
    "\n",
    "temp = temperature[:,0,:,0]"
   ]
  },
  {
   "cell_type": "code",
   "execution_count": 5,
   "metadata": {},
   "outputs": [],
   "source": [
    "#Shape: timepoints, scenarios and ensemblemodels\n",
    "current_emissions = model.emissions.sel(specie=\"CO2 FFI\", scenario=fair_scenario)\n",
    "#Plots the current emissions\n",
    "current_emissions = current_emissions[:,0,:]"
   ]
  },
  {
   "cell_type": "code",
   "execution_count": 6,
   "metadata": {},
   "outputs": [],
   "source": [
    "\n"
   ]
  },
  {
   "cell_type": "code",
   "execution_count": null,
   "metadata": {},
   "outputs": [],
   "source": [
    "# #create a list of years 1750 to 2014 with 1 year timestep\n",
    "# import time\n",
    "# import numpy as np\n",
    "\n",
    "\n",
    "\n",
    "# #Loop through the number of years starting with zero for 1750\n",
    "# loop_counter = 0\n",
    "# #Need to do this prerun in the init\n",
    "# #Then figure out how to clear emissions and refill with new emissions\n",
    "# for i in range(0, len(years_fair)): #This should be 1 for justice (i think)\n",
    "#     loop_counter = i\n",
    "    \n",
    "#     start_time = time.time()\n",
    "#     model.stepwise_run(i)\n",
    "#     end_time = time.time()  # palok\n",
    "#     elapsed_time = end_time - start_time  # calculate the difference\n",
    "#     # f.calculate_toa_ocean_airborne_fraction()\n",
    "#     # f.prepare_output_xarrays()\n",
    "#     #print(f\"One iteration {i} of the loop took {elapsed_time} seconds to run.\")\n",
    "\n",
    "#Purging code\n",
    "\"\"\"\n",
    "        # Purge the emissions data filled from RCMIP database from 2015 onwards. This will be filled by JUSTICE Economy submodel\n",
    "        # (\"timepoints\", \"scenario\", \"config\", \"specie\")\n",
    "\n",
    "        # Select data for \"CO2 FFI\" and scenario\n",
    "        rcmip_emission_array = self.emissions.sel(specie=\"CO2 FFI\", scenario=scenarios)\n",
    "        # Calculate justice start index\n",
    "        justice_start_index = self.start_year_justice - self.start_year_fair\n",
    "        # Create array with rcmip emissions before justice_start_index and zeros after\n",
    "        emissions_purge_array = np.concatenate(\n",
    "            [\n",
    "                rcmip_emission_array[0:justice_start_index].values,\n",
    "                np.full(\n",
    "                    (self.end_year_fair - self.start_year_justice,)\n",
    "                    + rcmip_emission_array.shape[1:],\n",
    "                    np.nan,\n",
    "                ),\n",
    "            ],\n",
    "            axis=0,\n",
    "        )\n",
    "\n",
    "        fill(self.emissions, emissions_purge_array, specie=\"CO2 FFI\")\n",
    "\"\"\""
   ]
  },
  {
   "cell_type": "code",
   "execution_count": 5,
   "metadata": {},
   "outputs": [],
   "source": [
    "# temperature = model.get_temperature_array()\n",
    "\n",
    "# temp = temperature[:,0,:,0]"
   ]
  },
  {
   "cell_type": "markdown",
   "metadata": {},
   "source": [
    "# NEW EXPERIMENTS OF INTEGRATION"
   ]
  },
  {
   "cell_type": "code",
   "execution_count": 1,
   "metadata": {},
   "outputs": [],
   "source": [
    "from src.economy.neoclassical import NeoclassicalEconomyModel\n",
    "from src.emissions.emission import OutputToEmissions\n",
    "#from economy.neoclassical import NeoclassicalEconomyModel\n",
    "from src.data_loader import DataLoader\n",
    "from src.enumerations import *\n",
    "from src.model_time import TimeHorizon\n",
    "# Instantiate the data loader\n",
    "from src.climate.coupled_fair import CoupledFAIR\n",
    "from src.enumerations import *\n",
    "import pandas as pd\n",
    "import numpy as np\n",
    "\n",
    "\n",
    "\n"
   ]
  },
  {
   "cell_type": "code",
   "execution_count": 2,
   "metadata": {},
   "outputs": [],
   "source": [
    "scenario = SSP.SSP1\n",
    "fair_scenario = [(ssp_to_rcp[scenario]).value]\n",
    "\n",
    "\n",
    "\n",
    "# Load the data\n",
    "data_loader = DataLoader()\n",
    "\n",
    "\n",
    "# Instantiate the TimeHorizon class\n",
    "time_horizon = TimeHorizon(start_year=2015, end_year=2300, data_timestep=5, timestep=1)\n",
    "\n",
    "model = CoupledFAIR()\n",
    "\n",
    "\n",
    "model.fair_justice_run_init(time_horizon=time_horizon, scenarios=fair_scenario)"
   ]
  },
  {
   "cell_type": "code",
   "execution_count": 3,
   "metadata": {},
   "outputs": [
    {
     "name": "stdout",
     "output_type": "stream",
     "text": [
      "1001\n"
     ]
    }
   ],
   "source": [
    "no_of_ensembles = model.__getattribute__('number_of_ensembles')\n",
    "print(no_of_ensembles)\n",
    "economy = NeoclassicalEconomyModel(input_dataset = data_loader, time_horizon=time_horizon, climate_ensembles=no_of_ensembles)\n",
    "emissions = OutputToEmissions(input_dataset=data_loader, time_horizon=time_horizon, climate_ensembles=no_of_ensembles)"
   ]
  },
  {
   "cell_type": "code",
   "execution_count": 4,
   "metadata": {},
   "outputs": [
    {
     "data": {
      "image/png": "[encoded data removed]",
      "text/plain": [
       "<Figure size 432x288 with 1 Axes>"
      ]
     },
     "metadata": {
      "needs_background": "light"
     },
     "output_type": "display_data"
    }
   ],
   "source": [
    "\n",
    "#Create a fixed savings rate\n",
    "fixed_savings_rate = np.copy(data_loader.SAVING_RATE_INIT_ARRAY).reshape(-1, 1)\n",
    "#fixed_savings_rate Validated with RICE50 for timestep 1 and 5\n",
    "\n",
    "set_year = time_horizon.model_time_horizon\n",
    "\n",
    "\n",
    "for i, years in enumerate(set_year):\n",
    "    \n",
    "    t = i+1 #index starts at 0, so add 1 to get the year\n",
    "\n",
    "    if t != 1: # no need to repeat for the first year\n",
    "\n",
    "        next_rate = data_loader.SAVING_RATE_INIT_ARRAY + (economy.get_optimal_long_run_savings_rate() - data_loader.SAVING_RATE_INIT_ARRAY)*((t - 1)/(len(set_year) - 1))\n",
    "        # append to the fixed savings rate array for each year\n",
    "        fixed_savings_rate = np.column_stack((fixed_savings_rate, next_rate))\n",
    "\n",
    "from matplotlib import pyplot as plt\n",
    "plt.plot(np.sum(fixed_savings_rate, axis=0))\n",
    "plt.title(\"Fixed Savings Rate\")\n",
    "plt.xlabel(\"Time\")\n",
    "plt.ylabel(\"Savings Rate\")\n",
    "plt.show()"
   ]
  },
  {
   "cell_type": "code",
   "execution_count": 5,
   "metadata": {},
   "outputs": [
    {
     "name": "stdout",
     "output_type": "stream",
     "text": [
      "(57, 1001)\n",
      "(57, 1001)\n",
      "(57, 1001)\n",
      "(57, 1001)\n",
      "(57, 1001)\n",
      "(57, 1001)\n",
      "(57, 1001)\n",
      "(57, 1001)\n",
      "(57, 1001)\n",
      "(57, 1001)\n",
      "(57, 1001)\n",
      "(57, 1001)\n",
      "(57, 1001)\n",
      "(57, 1001)\n",
      "(57, 1001)\n",
      "(57, 1001)\n",
      "(57, 1001)\n",
      "(57, 1001)\n",
      "(57, 1001)\n",
      "(57, 1001)\n",
      "(57, 1001)\n",
      "(57, 1001)\n",
      "(57, 1001)\n",
      "(57, 1001)\n",
      "(57, 1001)\n",
      "(57, 1001)\n",
      "(57, 1001)\n",
      "(57, 1001)\n",
      "(57, 1001)\n",
      "(57, 1001)\n",
      "(57, 1001)\n",
      "(57, 1001)\n",
      "(57, 1001)\n",
      "(57, 1001)\n",
      "(57, 1001)\n",
      "(57, 1001)\n",
      "(57, 1001)\n",
      "(57, 1001)\n",
      "(57, 1001)\n",
      "(57, 1001)\n",
      "(57, 1001)\n",
      "(57, 1001)\n",
      "(57, 1001)\n",
      "(57, 1001)\n",
      "(57, 1001)\n",
      "(57, 1001)\n",
      "(57, 1001)\n",
      "(57, 1001)\n",
      "(57, 1001)\n",
      "(57, 1001)\n",
      "(57, 1001)\n",
      "(57, 1001)\n",
      "(57, 1001)\n",
      "(57, 1001)\n",
      "(57, 1001)\n",
      "(57, 1001)\n",
      "(57, 1001)\n",
      "(57, 1001)\n",
      "(57, 1001)\n",
      "(57, 1001)\n",
      "(57, 1001)\n",
      "(57, 1001)\n",
      "(57, 1001)\n",
      "(57, 1001)\n",
      "(57, 1001)\n",
      "(57, 1001)\n",
      "(57, 1001)\n",
      "(57, 1001)\n",
      "(57, 1001)\n",
      "(57, 1001)\n",
      "(57, 1001)\n",
      "(57, 1001)\n",
      "(57, 1001)\n",
      "(57, 1001)\n",
      "(57, 1001)\n",
      "(57, 1001)\n",
      "(57, 1001)\n",
      "(57, 1001)\n",
      "(57, 1001)\n",
      "(57, 1001)\n",
      "(57, 1001)\n",
      "(57, 1001)\n",
      "(57, 1001)\n",
      "(57, 1001)\n",
      "(57, 1001)\n",
      "(57, 1001)\n",
      "(57, 1001)\n",
      "(57, 1001)\n",
      "(57, 1001)\n",
      "(57, 1001)\n",
      "(57, 1001)\n",
      "(57, 1001)\n",
      "(57, 1001)\n",
      "(57, 1001)\n",
      "(57, 1001)\n",
      "(57, 1001)\n",
      "(57, 1001)\n",
      "(57, 1001)\n",
      "(57, 1001)\n",
      "(57, 1001)\n",
      "(57, 1001)\n",
      "(57, 1001)\n",
      "(57, 1001)\n",
      "(57, 1001)\n",
      "(57, 1001)\n",
      "(57, 1001)\n",
      "(57, 1001)\n",
      "(57, 1001)\n",
      "(57, 1001)\n",
      "(57, 1001)\n",
      "(57, 1001)\n",
      "(57, 1001)\n",
      "(57, 1001)\n",
      "(57, 1001)\n",
      "(57, 1001)\n",
      "(57, 1001)\n",
      "(57, 1001)\n",
      "(57, 1001)\n",
      "(57, 1001)\n",
      "(57, 1001)\n",
      "(57, 1001)\n",
      "(57, 1001)\n",
      "(57, 1001)\n",
      "(57, 1001)\n",
      "(57, 1001)\n",
      "(57, 1001)\n",
      "(57, 1001)\n",
      "(57, 1001)\n",
      "(57, 1001)\n",
      "(57, 1001)\n",
      "(57, 1001)\n",
      "(57, 1001)\n",
      "(57, 1001)\n",
      "(57, 1001)\n",
      "(57, 1001)\n",
      "(57, 1001)\n",
      "(57, 1001)\n",
      "(57, 1001)\n",
      "(57, 1001)\n",
      "(57, 1001)\n",
      "(57, 1001)\n",
      "(57, 1001)\n",
      "(57, 1001)\n",
      "(57, 1001)\n",
      "(57, 1001)\n",
      "(57, 1001)\n",
      "(57, 1001)\n",
      "(57, 1001)\n",
      "(57, 1001)\n",
      "(57, 1001)\n",
      "(57, 1001)\n",
      "(57, 1001)\n",
      "(57, 1001)\n",
      "(57, 1001)\n",
      "(57, 1001)\n",
      "(57, 1001)\n",
      "(57, 1001)\n",
      "(57, 1001)\n",
      "(57, 1001)\n",
      "(57, 1001)\n",
      "(57, 1001)\n",
      "(57, 1001)\n",
      "(57, 1001)\n",
      "(57, 1001)\n",
      "(57, 1001)\n",
      "(57, 1001)\n",
      "(57, 1001)\n",
      "(57, 1001)\n",
      "(57, 1001)\n",
      "(57, 1001)\n",
      "(57, 1001)\n",
      "(57, 1001)\n",
      "(57, 1001)\n",
      "(57, 1001)\n",
      "(57, 1001)\n",
      "(57, 1001)\n",
      "(57, 1001)\n",
      "(57, 1001)\n",
      "(57, 1001)\n",
      "(57, 1001)\n",
      "(57, 1001)\n",
      "(57, 1001)\n",
      "(57, 1001)\n",
      "(57, 1001)\n",
      "(57, 1001)\n",
      "(57, 1001)\n",
      "(57, 1001)\n",
      "(57, 1001)\n",
      "(57, 1001)\n",
      "(57, 1001)\n",
      "(57, 1001)\n",
      "(57, 1001)\n",
      "(57, 1001)\n",
      "(57, 1001)\n",
      "(57, 1001)\n",
      "(57, 1001)\n",
      "(57, 1001)\n",
      "(57, 1001)\n",
      "(57, 1001)\n",
      "(57, 1001)\n",
      "(57, 1001)\n",
      "(57, 1001)\n",
      "(57, 1001)\n",
      "(57, 1001)\n",
      "(57, 1001)\n",
      "(57, 1001)\n",
      "(57, 1001)\n",
      "(57, 1001)\n",
      "(57, 1001)\n",
      "(57, 1001)\n",
      "(57, 1001)\n",
      "(57, 1001)\n",
      "(57, 1001)\n",
      "(57, 1001)\n",
      "(57, 1001)\n",
      "(57, 1001)\n",
      "(57, 1001)\n",
      "(57, 1001)\n",
      "(57, 1001)\n",
      "(57, 1001)\n",
      "(57, 1001)\n",
      "(57, 1001)\n",
      "(57, 1001)\n",
      "(57, 1001)\n",
      "(57, 1001)\n",
      "(57, 1001)\n",
      "(57, 1001)\n",
      "(57, 1001)\n",
      "(57, 1001)\n",
      "(57, 1001)\n",
      "(57, 1001)\n",
      "(57, 1001)\n",
      "(57, 1001)\n",
      "(57, 1001)\n",
      "(57, 1001)\n",
      "(57, 1001)\n",
      "(57, 1001)\n",
      "(57, 1001)\n",
      "(57, 1001)\n",
      "(57, 1001)\n",
      "(57, 1001)\n",
      "(57, 1001)\n",
      "(57, 1001)\n",
      "(57, 1001)\n",
      "(57, 1001)\n",
      "(57, 1001)\n",
      "(57, 1001)\n",
      "(57, 1001)\n",
      "(57, 1001)\n",
      "(57, 1001)\n",
      "(57, 1001)\n",
      "(57, 1001)\n",
      "(57, 1001)\n",
      "(57, 1001)\n",
      "(57, 1001)\n",
      "(57, 1001)\n",
      "(57, 1001)\n",
      "(57, 1001)\n",
      "(57, 1001)\n",
      "(57, 1001)\n",
      "(57, 1001)\n",
      "(57, 1001)\n",
      "(57, 1001)\n",
      "(57, 1001)\n",
      "(57, 1001)\n",
      "(57, 1001)\n",
      "(57, 1001)\n",
      "(57, 1001)\n",
      "(57, 1001)\n",
      "(57, 1001)\n",
      "(57, 1001)\n",
      "(57, 1001)\n",
      "(57, 1001)\n",
      "(57, 1001)\n",
      "(57, 1001)\n",
      "(57, 1001)\n",
      "(57, 1001)\n",
      "(57, 1001)\n",
      "(57, 1001)\n",
      "(57, 1001)\n",
      "(57, 1001)\n",
      "(57, 1001)\n",
      "(57, 1001)\n",
      "(57, 1001)\n",
      "(57, 1001)\n"
     ]
    }
   ],
   "source": [
    "scenario = 0 #SSP.SSP1\n",
    "#print(scenario.value)\n",
    "\n",
    "# temp_emissions = np.zeros((57, 286, 1001))\n",
    "\n",
    "for i in (range(len(set_year) - 1)):\n",
    "    output = economy.run(scenario = scenario, timestep=i, savings_rate=fixed_savings_rate[:, i])\n",
    "\n",
    "    #print shape of output\n",
    "    print(output.shape)\n",
    "\n",
    "    emissions_array = emissions.run_emissions(timestep=i, scenario=scenario, output=output, emission_control_rate=0.0) #[:,i,:]\n",
    "    # print(emissions_array[:,i,:].shape)\n",
    "    total_emissions = np.sum(emissions_array, axis=0)\n",
    "    # reshape total_emissions\n",
    "    # total_emissions = total_emissions.reshape(1, *total_emissions.shape)\n",
    "    #print(total_emissions[:,0])\n",
    "    #print(total_emissions.shape)\n",
    "    # print(total_emissions[:,0])\n",
    "    \n",
    "\n",
    "    \"\"\"\n",
    "    total_emissions = np.sum(emissions_array, axis=0)\n",
    "    # reshape total_emissions\n",
    "    total_emissions = total_emissions.reshape(1, *total_emissions.shape)\n",
    "  \n",
    "    print(total_emissions.shape)\n",
    "\"\"\"\n",
    "    #total_emissions = np.sum(emissions_array[:,i,:], axis=1)[np.newaxis, np.newaxis, :]\n",
    "    # print(total_emissions.shape)\n",
    "    \n",
    "    model.compute_temperature_from_emission(i, total_emissions)\n",
    "    \n",
    "\n"
   ]
  },
  {
   "cell_type": "code",
   "execution_count": 6,
   "metadata": {},
   "outputs": [],
   "source": [
    "temperature = model.get_temperature_array()\n",
    "\n",
    "temp = temperature[:,0,:,0]"
   ]
  },
  {
   "cell_type": "code",
   "execution_count": 25,
   "metadata": {},
   "outputs": [],
   "source": [
    "total_emis_test = emissions_array #[:,:,0]\n",
    "#sum all the emissions of regions per timestep to get total emissions for each timestep\n",
    "total_emis_test = np.sum(total_emis_test, axis=0)\n",
    "#testdf = pd.DataFrame(emissions_array[:,:,0])\n"
   ]
  },
  {
   "cell_type": "code",
   "execution_count": 7,
   "metadata": {},
   "outputs": [],
   "source": [
    "\n",
    "testdf = pd.DataFrame(model.emissions.sel(specie=\"CO2 FFI\", scenario=\"ssp119\"))"
   ]
  },
  {
   "cell_type": "code",
   "execution_count": 11,
   "metadata": {},
   "outputs": [],
   "source": [
    "testdf2 = total_emissions[:,:,0]"
   ]
  },
  {
   "cell_type": "code",
   "execution_count": 8,
   "metadata": {},
   "outputs": [],
   "source": [
    "testdf2 = emissions_array[:,:,0]"
   ]
  },
  {
   "cell_type": "code",
   "execution_count": null,
   "metadata": {},
   "outputs": [],
   "source": []
  }
 ],
 "metadata": {
  "kernelspec": {
   "display_name": "base",
   "language": "python",
   "name": "python3"
  },
  "language_info": {
   "codemirror_mode": {
    "name": "ipython",
    "version": 3
   },
   "file_extension": ".py",
   "mimetype": "text/x-python",
   "name": "python",
   "nbconvert_exporter": "python",
   "pygments_lexer": "ipython3",
   "version": "3.9.10"
  },
  "orig_nbformat": 4
 },
 "nbformat": 4,
 "nbformat_minor": 2
}
